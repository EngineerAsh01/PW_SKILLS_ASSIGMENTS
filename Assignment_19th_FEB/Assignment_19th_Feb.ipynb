{
 "cells": [
  {
   "cell_type": "markdown",
   "id": "19baefc3-8d67-4e7d-b163-6dd2151e439f",
   "metadata": {},
   "source": [
    "## Solution 1\n",
    "\n",
    "Flask is a web framework, it’s a Python module that lets you develop web applications easily. It’s has a small and easy-to-extend core: it’s a microframework that doesn’t include an ORM (Object Relational Manager) or such features.It does have many cool features like url routing, template engine\n",
    "\n",
    "Advanatage of Flask:\n",
    "\n",
    "1. Lightweight: It is a lightweight framework as it is independent of external libraries. It gives a quick start to the web development process of complex applications. \n",
    "2. Independent: Flask gives independent or full control to the developer for creating applications. You can experiment with the architecture or the libraries of the framework.\n",
    "3. Integrated Unit Testing: Flask’s integrated unit testing system enables faster debugging, robust development, and freedom to experiment.\n",
    "4. Secure Cookies: Secure cookie is an attribute of an HTTP request that enables the security of channels and ensures no unauthorized person has access to the text. Flask supports the feature of secure cookies.\n",
    "5. Compatible: Flask is compatible with the latest technologies like Machine Learning, Cloud, etc.\n",
    "6. Flexible and Scalable: Support WSGI templates that allow flexibility and scalability for web applications.\n",
    "7. It comes with a built-in server and debugger.\n",
    "8. Simple and adaptable configurations"
   ]
  },
  {
   "cell_type": "markdown",
   "id": "e5cfe437-ac08-4759-be2b-434162cb1ce8",
   "metadata": {},
   "source": [
    "## Solution 2"
   ]
  },
  {
   "cell_type": "code",
   "execution_count": null,
   "id": "cc4f2238-ffc6-4f88-a0c4-b87733d8002d",
   "metadata": {},
   "outputs": [
    {
     "name": "stdout",
     "output_type": "stream",
     "text": [
      " * Serving Flask app '__main__'\n",
      " * Debug mode: off\n"
     ]
    },
    {
     "name": "stderr",
     "output_type": "stream",
     "text": [
      "WARNING: This is a development server. Do not use it in a production deployment. Use a production WSGI server instead.\n",
      " * Running on all addresses (0.0.0.0)\n",
      " * Running on http://127.0.0.1:5000\n",
      " * Running on http://172.18.0.6:5000\n",
      "Press CTRL+C to quit\n",
      "172.18.0.2 - - [19/Feb/2023 16:54:34] \"GET / HTTP/1.1\" 200 -\n",
      "172.18.0.2 - - [19/Feb/2023 16:54:34] \"GET /favicon.ico HTTP/1.1\" 404 -\n"
     ]
    }
   ],
   "source": [
    "from flask import Flask\n",
    "\n",
    "app = Flask(__name__)\n",
    "\n",
    "@app.route(\"/\")\n",
    "def hello_world():\n",
    "    return \"<h1>Hello, World!</h1>\"      #displays a html headline\n",
    "\n",
    "if __name__==\"__main__\":\n",
    "    app.run(host=\"0.0.0.0\")"
   ]
  },
  {
   "cell_type": "markdown",
   "id": "3c610477-a64c-4d33-87a6-ea004f029235",
   "metadata": {},
   "source": [
    "## Solution 3\n",
    "\n",
    "App Routing means mapping the URLs to a specific function that will handle the logic for that URL. Modern web frameworks use more meaningful URLs to help users remember the URLs and make navigation simpler. Example: In our application, the URL (“/”) is associated with the root URL"
   ]
  },
  {
   "cell_type": "markdown",
   "id": "81585b81-1c1a-4155-bb0c-5c0a00d5c7d0",
   "metadata": {},
   "source": [
    "## Solution 4"
   ]
  },
  {
   "cell_type": "code",
   "execution_count": 8,
   "id": "f1c802bf-b428-4fc9-adce-2177c1b9728d",
   "metadata": {},
   "outputs": [
    {
     "name": "stdout",
     "output_type": "stream",
     "text": [
      " * Serving Flask app '__main__'\n",
      " * Debug mode: off\n"
     ]
    },
    {
     "name": "stderr",
     "output_type": "stream",
     "text": [
      "WARNING: This is a development server. Do not use it in a production deployment. Use a production WSGI server instead.\n",
      " * Running on all addresses (0.0.0.0)\n",
      " * Running on http://127.0.0.1:5000\n",
      " * Running on http://172.18.0.14:5000\n",
      "Press CTRL+C to quit\n",
      "172.18.0.2 - - [19/Feb/2023 18:09:16] \"GET / HTTP/1.1\" 200 -\n",
      "172.18.0.2 - - [19/Feb/2023 18:09:35] \"GET /welcome HTTP/1.1\" 200 -\n"
     ]
    }
   ],
   "source": [
    "from flask import Flask\n",
    "\n",
    "app = Flask(__name__)\n",
    "\n",
    "@app.route(\"/\")\n",
    "def homepage():\n",
    "    return \"Company Name: ABC Corporation ,Location: India ,Contact Detail:  999-999-9999\"    \n",
    "\n",
    "@app.route(\"/welcome\")\n",
    "def welcome():\n",
    "    return \"Welcome to ABC Corporation\"\n",
    "\n",
    "if __name__==\"__main__\":\n",
    "    app.run(host=\"0.0.0.0\")"
   ]
  },
  {
   "cell_type": "markdown",
   "id": "ded52284-5179-49ed-b036-f24a474b5cb4",
   "metadata": {},
   "source": [
    "## Solution 5\n",
    "\n",
    "To build a URL to a specific function, use the url_for() function. It accepts the name of the function as its first argument and any number of keyword arguments, each corresponding to a variable part of the URL rule\n",
    "\n",
    "Syntax: url_for(‘function_name’,key = value)"
   ]
  },
  {
   "cell_type": "code",
   "execution_count": 1,
   "id": "0cac0dea-261c-408b-94a6-7705dd947236",
   "metadata": {},
   "outputs": [
    {
     "name": "stdout",
     "output_type": "stream",
     "text": [
      " * Serving Flask app '__main__'\n",
      " * Debug mode: off\n"
     ]
    },
    {
     "name": "stderr",
     "output_type": "stream",
     "text": [
      "WARNING: This is a development server. Do not use it in a production deployment. Use a production WSGI server instead.\n",
      " * Running on all addresses (0.0.0.0)\n",
      " * Running on http://127.0.0.1:5000\n",
      " * Running on http://172.18.0.14:5000\n",
      "Press CTRL+C to quit\n",
      "172.18.0.2 - - [19/Feb/2023 18:17:42] \"GET / HTTP/1.1\" 404 -\n",
      "172.18.0.2 - - [19/Feb/2023 18:17:54] \"GET /admin HTTP/1.1\" 200 -\n",
      "172.18.0.2 - - [19/Feb/2023 18:18:06] \"GET /user/admin HTTP/1.1\" 302 -\n",
      "172.18.0.2 - - [19/Feb/2023 18:18:06] \"GET /admin HTTP/1.1\" 200 -\n",
      "172.18.0.2 - - [19/Feb/2023 18:18:19] \"GET /user/librarion HTTP/1.1\" 302 -\n",
      "172.18.0.2 - - [19/Feb/2023 18:18:19] \"GET /librarion HTTP/1.1\" 200 -\n"
     ]
    }
   ],
   "source": [
    "from flask import Flask,redirect,url_for \n",
    "   \n",
    "app = Flask(__name__)  \n",
    "  \n",
    "@app.route('/admin')  \n",
    "def admin():  \n",
    "    return 'admin'  \n",
    "  \n",
    "@app.route('/librarion')  \n",
    "def librarion():  \n",
    "    return 'librarion'  \n",
    "  \n",
    "@app.route('/student')  \n",
    "def student():  \n",
    "    return 'student'  \n",
    "  \n",
    "@app.route('/user/<name>')  \n",
    "def user(name):  \n",
    "    if name == 'admin':  \n",
    "        return redirect(url_for('admin'))  \n",
    "    if name == 'librarion':  \n",
    "        return redirect(url_for('librarion'))  \n",
    "    if name == 'student':  \n",
    "        return redirect(url_for('student'))  \n",
    "    \n",
    "if __name__ =='__main__':  \n",
    "    app.run(host=\"0.0.0.0\")  "
   ]
  },
  {
   "cell_type": "markdown",
   "id": "239f1316-cb94-40ff-b580-dea31e729654",
   "metadata": {},
   "source": [
    "## THE END"
   ]
  },
  {
   "cell_type": "code",
   "execution_count": null,
   "id": "7e92edbc-965d-4d3b-9c46-7bc059dd4e59",
   "metadata": {},
   "outputs": [],
   "source": []
  }
 ],
 "metadata": {
  "kernelspec": {
   "display_name": "Python 3 (ipykernel)",
   "language": "python",
   "name": "python3"
  },
  "language_info": {
   "codemirror_mode": {
    "name": "ipython",
    "version": 3
   },
   "file_extension": ".py",
   "mimetype": "text/x-python",
   "name": "python",
   "nbconvert_exporter": "python",
   "pygments_lexer": "ipython3",
   "version": "3.10.8"
  }
 },
 "nbformat": 4,
 "nbformat_minor": 5
}
