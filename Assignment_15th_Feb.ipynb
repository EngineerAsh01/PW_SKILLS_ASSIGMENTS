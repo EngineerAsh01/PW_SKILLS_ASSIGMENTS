{
 "cells": [
  {
   "cell_type": "markdown",
   "id": "466af5e9-ba0a-4113-9858-3ec32aa9936c",
   "metadata": {},
   "source": [
    "## Solution 1\n",
    "\n",
    "Multiprocessing in Python is a built-in package that allows the system to run multiple processes simultaneously. It will enable the breaking of applications into smaller threads that can run independently.\n",
    "\n",
    "The multiprocessing is useful because the package offers both local and remote concurrency, effectively side-stepping the Global Interpreter Lock by using subprocesses instead of threads. Due to this, the multiprocessing module allows the programmer to fully leverage multiple processors on a given machine. It runs on both Unix and Windows."
   ]
  },
  {
   "cell_type": "markdown",
   "id": "86be6c7f-1e7f-4325-bfe8-672ffeaba7a4",
   "metadata": {},
   "source": [
    "## Solution \n",
    "\n",
    "Multiprocessing:\n",
    "1. In Multiprocessing, CPUs are added for increasing computing power.\n",
    "2. In Multiprocessing, Many processes are executed simultaneously.\n",
    "3. Multiprocessing are classified into Symmetric and Asymmetric.\n",
    "4. In Multiprocessing, Process creation is a time-consuming process.\n",
    "5. In Multiprocessing, every process owned a separate address space.\n",
    "\n",
    "\n",
    "Multithreading:\n",
    "1. While In Multithreading, many threads are created of a single process for increasing computing power.\n",
    "2. While in multithreading, many threads of a process are executed simultaneously.\n",
    "3. While Multithreading is not classified in any categories.\n",
    "4. While in Multithreading, process creation is according to economical.\n",
    "5. While in Multithreading, a common address space is shared by all the threads.\n",
    "    "
   ]
  },
  {
   "cell_type": "markdown",
   "id": "9345831d-e367-4495-9494-2c55083c29f7",
   "metadata": {},
   "source": [
    "## Solution 3"
   ]
  },
  {
   "cell_type": "code",
   "execution_count": 4,
   "id": "19bf0a0f-69c8-445b-aa1a-df45775a4b90",
   "metadata": {},
   "outputs": [
    {
     "name": "stdout",
     "output_type": "stream",
     "text": [
      "square:4\n",
      "square:9\n",
      "square:64\n",
      "square:81\n",
      "Done\n"
     ]
    }
   ],
   "source": [
    "import multiprocessing\n",
    "import time\n",
    "\n",
    "def cal_square(number):\n",
    "    for n in number:\n",
    "        print('square:'+ str(n*n))\n",
    "        time.sleep(1)\n",
    "        \n",
    "if __name__ == '__main__':\n",
    "    arr = [2,3,8,9]\n",
    "    p1 = multiprocessing.Process(target = cal_square , args=(arr,))\n",
    "  \n",
    "    p1.start()\n",
    "    p1.join()\n",
    "    \n",
    "    print(\"Done\")\n"
   ]
  },
  {
   "cell_type": "markdown",
   "id": "26f89b3d-d9d7-441d-b794-a969bd2a9bf6",
   "metadata": {},
   "source": [
    "## Solution 4"
   ]
  },
  {
   "cell_type": "markdown",
   "id": "124ebffb-d7e3-48db-83a7-d6ee3fa748f3",
   "metadata": {},
   "source": [
    "Python multiprocessing Pool can be used for parallel execution of a function across multiple input values, distributing the input data across processes i.e (data parallelism).\n",
    "\n",
    "therefore,multiprocessing Pool is used to increased the speed of execution and use resources effectively"
   ]
  },
  {
   "cell_type": "markdown",
   "id": "71b0ed7b-b33a-48da-965c-64e4d2e35f19",
   "metadata": {},
   "source": [
    "## Solution 5\n",
    "\n",
    "A sample code that explains the use of multi processing \n",
    "Here it does sum from 1 to 100000 using multiprocessing and \n",
    "normal(looping through and adding) method to check the result\n"
   ]
  },
  {
   "cell_type": "code",
   "execution_count": 10,
   "id": "4b783111-b170-4ecd-a814-74ebe61f9c4b",
   "metadata": {},
   "outputs": [
    {
     "name": "stdout",
     "output_type": "stream",
     "text": [
      "Pool took: 0.5703473091125488\n",
      "Serial processing took: 8.895976781845093\n"
     ]
    }
   ],
   "source": [
    "from multiprocessing import Pool\n",
    "\n",
    "def f(n):\n",
    "    sum = 0\n",
    "    for x in range(1000):\n",
    "        sum += x*x\n",
    "    return sum\n",
    "\n",
    "if __name__ == '__main__':\n",
    "\n",
    "    t1 = time.time()\n",
    "    p = Pool()\n",
    "    result = p.map(f,range(100000))\n",
    "    p.close()\n",
    "    p.join()\n",
    "    print(\"Pool took:\",time.time()-t1)\n",
    "\n",
    "    t2 = time.time()\n",
    "    result = []\n",
    "    for x in range(100000):\n",
    "        result.append(f(x))\n",
    "    \n",
    "    print(\"Serial processing took:\",time.time()-t2)"
   ]
  },
  {
   "cell_type": "markdown",
   "id": "352ceb53-b9ae-4a13-b5b1-92aed84cec60",
   "metadata": {},
   "source": [
    "## Solution 6"
   ]
  },
  {
   "cell_type": "code",
   "execution_count": 13,
   "id": "0b963ffb-a060-4e4e-9cd9-7b0d738b0726",
   "metadata": {},
   "outputs": [
    {
     "name": "stdout",
     "output_type": "stream",
     "text": [
      "procees 1 prints this: 1\n",
      "procees 2 prints this: 12\n",
      "procees 3 prints this: 130\n",
      "procees 4 prints this: 100000\n",
      "Done\n"
     ]
    }
   ],
   "source": [
    "import multiprocessing\n",
    "\n",
    "def print_no(process_no,number):\n",
    "    print(\"procees {} prints this: {}\".format(process_no,number))\n",
    "        \n",
    "if __name__ == '__main__':\n",
    "    p1 = multiprocessing.Process(target = print_no , args=(\"1\",\"1\"))\n",
    "    p2 = multiprocessing.Process(target = print_no , args=(\"2\",\"12\"))\n",
    "    p3 = multiprocessing.Process(target = print_no , args=(\"3\",\"130\"))\n",
    "    p4 = multiprocessing.Process(target = print_no , args=(\"4\",\"100000\"))\n",
    "  \n",
    "    p1.start()\n",
    "    p2.start()\n",
    "    p3.start()\n",
    "    p4.start()\n",
    "    \n",
    "    p1.join()\n",
    "    p2.join()\n",
    "    p3.join()\n",
    "    p4.join()\n",
    "    \n",
    "    print(\"Done\")\n",
    "\n"
   ]
  },
  {
   "cell_type": "code",
   "execution_count": null,
   "id": "24f26d0d-b577-4e58-861a-f6abfb642c99",
   "metadata": {},
   "outputs": [],
   "source": []
  },
  {
   "cell_type": "markdown",
   "id": "5a89a2b4-ff48-475c-845a-27e77631e66e",
   "metadata": {},
   "source": [
    "## THE END"
   ]
  },
  {
   "cell_type": "code",
   "execution_count": null,
   "id": "54380680-059e-42bf-94f2-7856368f46d3",
   "metadata": {},
   "outputs": [],
   "source": []
  }
 ],
 "metadata": {
  "kernelspec": {
   "display_name": "Python 3 (ipykernel)",
   "language": "python",
   "name": "python3"
  },
  "language_info": {
   "codemirror_mode": {
    "name": "ipython",
    "version": 3
   },
   "file_extension": ".py",
   "mimetype": "text/x-python",
   "name": "python",
   "nbconvert_exporter": "python",
   "pygments_lexer": "ipython3",
   "version": "3.10.8"
  }
 },
 "nbformat": 4,
 "nbformat_minor": 5
}
