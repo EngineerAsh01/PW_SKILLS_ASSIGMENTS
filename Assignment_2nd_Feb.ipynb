{
 "cells": [
  {
   "cell_type": "markdown",
   "id": "cc8015cc-7786-46ec-b48f-239668398d99",
   "metadata": {},
   "source": [
    "## Solution 1 \n",
    "\n",
    "Tuples have the given characteristics:\n",
    "1.They are indexed\n",
    "2.Tuples are ordered.\n",
    "3.They are immutable\n",
    "4.They can contain duplicate items\n",
    "\n",
    "No,Tuple is not immutable."
   ]
  },
  {
   "cell_type": "markdown",
   "id": "db91d21d-5ea7-4460-9567-0ac310d4f181",
   "metadata": {},
   "source": [
    "## Solution 2\n",
    "1. the two tuple methods are .index() and .count()\n",
    "2. index() method returns the first Occurrence of the given element\n",
    "   from the tuple\n",
    "   Syntax : .index() ->tuple.index(element,start,end)\n",
    "   Parameters:\n",
    "   element -> the elment to be searched\n",
    "   start -> starting index from where to start searching(optional)\n",
    "   end -> Ending index to end the search(optional)\n",
    "   \n",
    "   count() method return the total Occurrence of the elemnt in the \n",
    "   tuple \n",
    "   Syntax : .count() -> tuple.count(element)\n",
    "   Parameters:\n",
    "   element -> the elment to be counted\n",
    "3.  tuples are immutables. Meaning, you cannot change items of a \n",
    "    tuple once it is assigned,therefore the methods such as  \n",
    "    .remove,.append as no use case of tuples"
   ]
  },
  {
   "cell_type": "code",
   "execution_count": 4,
   "id": "b1191874-113f-4637-b191-1b97f92f64ad",
   "metadata": {},
   "outputs": [
    {
     "name": "stdout",
     "output_type": "stream",
     "text": [
      "4\n"
     ]
    }
   ],
   "source": [
    "#Example\n",
    "atuple = (1,2,3,5,6,6,8,6,6)\n",
    "print(atuple.count(6)) #count the total presence of 6's"
   ]
  },
  {
   "cell_type": "code",
   "execution_count": 5,
   "id": "023e6232-66b6-44ab-9bb8-6b4c194c7fb5",
   "metadata": {},
   "outputs": [
    {
     "name": "stdout",
     "output_type": "stream",
     "text": [
      "3\n"
     ]
    }
   ],
   "source": [
    "print(atuple.index(5)) #get the index of the number 5"
   ]
  },
  {
   "cell_type": "markdown",
   "id": "b78efe25-9248-49c3-8c6c-9997b161143b",
   "metadata": {},
   "source": [
    "## Solution 3\n",
    "\n",
    "1. \"set\" in python does not allow duplicate items "
   ]
  },
  {
   "cell_type": "code",
   "execution_count": 7,
   "id": "ac68bec6-f99c-4c05-90bb-a98614a84aa7",
   "metadata": {},
   "outputs": [
    {
     "name": "stdout",
     "output_type": "stream",
     "text": [
      "{1, 2, 3, 4}\n"
     ]
    }
   ],
   "source": [
    "#Example\n",
    "List = [1,1,1,2,1,3,1,4,2,1,2,2,2,3,2,4,3,1,3,2,3,3,3,4,4,1,4,2,4,3,4,4]\n",
    "Set = set(List)\n",
    "print(Set)"
   ]
  },
  {
   "cell_type": "markdown",
   "id": "f26e9392-0529-482d-a490-c78f8787d094",
   "metadata": {},
   "source": [
    "## Solution 4\n",
    "\n",
    "the difference betwwn union and update is:\n",
    "1. union() -> Return a set containing the union of sets\n",
    "   Syntax : set.union(set1,set2,...)\n",
    "2. update() -> Updates the set with another set or any other iterable    Syntax : set.update(set1)"
   ]
  },
  {
   "cell_type": "code",
   "execution_count": 12,
   "id": "732e0606-4670-4ffa-8921-14332cb7da1d",
   "metadata": {},
   "outputs": [],
   "source": [
    "#example\n",
    "set1 = {1,2,3,4}\n",
    "set2 = {5,6,7,8}"
   ]
  },
  {
   "cell_type": "code",
   "execution_count": 18,
   "id": "9d342a8e-a3a0-4272-9b91-200dec1f7a49",
   "metadata": {},
   "outputs": [
    {
     "name": "stdout",
     "output_type": "stream",
     "text": [
      "{1, 2, 3, 4, 5, 6, 7, 8}\n"
     ]
    }
   ],
   "source": [
    "set3 = set1.union(set2)\n",
    "print(set3)              #this created a new set with the values from set 1and set2"
   ]
  },
  {
   "cell_type": "code",
   "execution_count": 19,
   "id": "3b4f4d56-d4b2-4e41-b5bc-5b10e2c2052c",
   "metadata": {},
   "outputs": [],
   "source": [
    "set1.update(set2)"
   ]
  },
  {
   "cell_type": "code",
   "execution_count": 20,
   "id": "46e3a853-4a12-4213-bcb1-12a2325410b0",
   "metadata": {},
   "outputs": [
    {
     "name": "stdout",
     "output_type": "stream",
     "text": [
      "{1, 2, 3, 4, 5, 6, 7, 8}\n"
     ]
    }
   ],
   "source": [
    "print(set1)             #this update the set1 with values od set 2"
   ]
  },
  {
   "cell_type": "markdown",
   "id": "8fe7a442-a913-4e54-b8d8-a1f17010c026",
   "metadata": {},
   "source": [
    "## Solution 5\n",
    "1. Dictionaries are used to store data values in key:value pairs.\n",
    "2. A dictionary is a collection which is ordered, changeable and do \n",
    "   not allow duplicates."
   ]
  },
  {
   "cell_type": "code",
   "execution_count": 21,
   "id": "dd6e2d1e-e63a-497f-a87c-0f5fdc1aaec3",
   "metadata": {},
   "outputs": [
    {
     "name": "stdout",
     "output_type": "stream",
     "text": [
      "{'name': 'tanay', 'course': 'DSM'}\n"
     ]
    }
   ],
   "source": [
    "#example\n",
    "dict1 = {\"name\" : \"tanay\",\"course\":\"DSM\"}\n",
    "print(dict1)\n"
   ]
  },
  {
   "cell_type": "markdown",
   "id": "da6c528b-7e9d-480b-814b-50c556570c20",
   "metadata": {},
   "source": [
    "## Solution 6\n",
    "\n",
    "Yes, its is possible to create a nested dictionary"
   ]
  },
  {
   "cell_type": "code",
   "execution_count": 22,
   "id": "022abf58-1cee-4d64-befb-05e26f8338bb",
   "metadata": {},
   "outputs": [],
   "source": [
    "dict2 = {\"name\":\"tanay\",\"course\":{\"course_name\":\"DSM\",\"Price\":3500}}"
   ]
  },
  {
   "cell_type": "code",
   "execution_count": 23,
   "id": "b4091b12-0833-45f6-af53-3f23d143860e",
   "metadata": {},
   "outputs": [
    {
     "name": "stdout",
     "output_type": "stream",
     "text": [
      "{'name': 'tanay', 'course': {'course_name': 'DSM', 'Price': 3500}}\n"
     ]
    }
   ],
   "source": [
    "print(dict2) #nested dict"
   ]
  },
  {
   "cell_type": "markdown",
   "id": "a1b9fc48-3d59-45f6-b553-b1f899aa9dbd",
   "metadata": {},
   "source": [
    "## Solution 7"
   ]
  },
  {
   "cell_type": "code",
   "execution_count": 26,
   "id": "542bf920-2f2f-4d6e-978c-29316bac9644",
   "metadata": {},
   "outputs": [],
   "source": [
    "dict1 = {'language' : 'Python','course':'Data Science Masters'}"
   ]
  },
  {
   "cell_type": "code",
   "execution_count": 28,
   "id": "d0adb8ef-be90-4138-bbdc-c7d480567efc",
   "metadata": {},
   "outputs": [
    {
     "data": {
      "text/plain": [
       "'Programming Language'"
      ]
     },
     "execution_count": 28,
     "metadata": {},
     "output_type": "execute_result"
    }
   ],
   "source": [
    "dict1.setdefault('Python','Programming Language')"
   ]
  },
  {
   "cell_type": "code",
   "execution_count": 29,
   "id": "5c5c091b-a7a7-4209-a755-38b088419f65",
   "metadata": {},
   "outputs": [
    {
     "name": "stdout",
     "output_type": "stream",
     "text": [
      "{'language': 'Python', 'course': 'Data Science Masters', 'Python': 'Programming Language'}\n"
     ]
    }
   ],
   "source": [
    "print(dict1)"
   ]
  },
  {
   "cell_type": "code",
   "execution_count": 30,
   "id": "b2c4f8fd-0083-4067-acfe-45ef07a56955",
   "metadata": {},
   "outputs": [
    {
     "data": {
      "text/plain": [
       "'section 1'"
      ]
     },
     "execution_count": 30,
     "metadata": {},
     "output_type": "execute_result"
    }
   ],
   "source": [
    "dict1.setdefault('Machine learning','section 1')"
   ]
  },
  {
   "cell_type": "code",
   "execution_count": 31,
   "id": "166a1076-6374-4bcb-83b5-7b83d75886b6",
   "metadata": {},
   "outputs": [
    {
     "data": {
      "text/plain": [
       "'section 2'"
      ]
     },
     "execution_count": 31,
     "metadata": {},
     "output_type": "execute_result"
    }
   ],
   "source": [
    "dict1.setdefault('Deep learning','section 2')"
   ]
  },
  {
   "cell_type": "code",
   "execution_count": 33,
   "id": "99e417a1-36aa-477e-9aaa-e594c558fcea",
   "metadata": {},
   "outputs": [
    {
     "name": "stdout",
     "output_type": "stream",
     "text": [
      "{'language': 'Python', 'course': 'Data Science Masters', 'Python': 'Programming Language', 'Machine learning': 'section 1', 'Deep learning': 'section 2'}\n"
     ]
    }
   ],
   "source": [
    "print(dict1)  #final output"
   ]
  },
  {
   "cell_type": "markdown",
   "id": "17e31196-e709-424b-b13f-56f8c4ec21b2",
   "metadata": {},
   "source": [
    "## Solution 8\n",
    "\n",
    "1. the three view object in dictionaries are keys,values.items"
   ]
  },
  {
   "cell_type": "code",
   "execution_count": 35,
   "id": "cec4333f-3718-4324-bfa2-49e84880c89b",
   "metadata": {},
   "outputs": [],
   "source": [
    "dict1 = {\"sport\":\"Cricket\",\"Teams\":[\"India\",\"Australia\",\"England\",\"South Africa\",\"Sri lanka\",\"New Zealand\"]}"
   ]
  },
  {
   "cell_type": "code",
   "execution_count": 37,
   "id": "989d97df-47b8-4bd9-977a-2002c9545139",
   "metadata": {},
   "outputs": [
    {
     "data": {
      "text/plain": [
       "dict_keys(['sport', 'Teams'])"
      ]
     },
     "execution_count": 37,
     "metadata": {},
     "output_type": "execute_result"
    }
   ],
   "source": [
    "dict1.keys()"
   ]
  },
  {
   "cell_type": "code",
   "execution_count": 38,
   "id": "236e69c7-5cb2-4a52-82eb-a013ab325073",
   "metadata": {},
   "outputs": [
    {
     "data": {
      "text/plain": [
       "dict_values(['Cricket', ['India', 'Australia', 'England', 'South Africa', 'Sri lanka', 'New Zealand']])"
      ]
     },
     "execution_count": 38,
     "metadata": {},
     "output_type": "execute_result"
    }
   ],
   "source": [
    "dict1.values()"
   ]
  },
  {
   "cell_type": "code",
   "execution_count": 39,
   "id": "0c9d2b4b-77ce-4c2c-b2d9-0be620b09a8d",
   "metadata": {},
   "outputs": [
    {
     "data": {
      "text/plain": [
       "dict_items([('sport', 'Cricket'), ('Teams', ['India', 'Australia', 'England', 'South Africa', 'Sri lanka', 'New Zealand'])])"
      ]
     },
     "execution_count": 39,
     "metadata": {},
     "output_type": "execute_result"
    }
   ],
   "source": [
    "dict1.items()"
   ]
  },
  {
   "cell_type": "code",
   "execution_count": null,
   "id": "95e0f796-802d-4dd5-885b-c45c6068bb4e",
   "metadata": {},
   "outputs": [],
   "source": []
  }
 ],
 "metadata": {
  "kernelspec": {
   "display_name": "Python 3 (ipykernel)",
   "language": "python",
   "name": "python3"
  },
  "language_info": {
   "codemirror_mode": {
    "name": "ipython",
    "version": 3
   },
   "file_extension": ".py",
   "mimetype": "text/x-python",
   "name": "python",
   "nbconvert_exporter": "python",
   "pygments_lexer": "ipython3",
   "version": "3.10.8"
  }
 },
 "nbformat": 4,
 "nbformat_minor": 5
}
