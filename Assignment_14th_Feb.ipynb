{
 "cells": [
  {
   "cell_type": "markdown",
   "id": "6760349c-5cf3-4e5f-8a3c-b193bc59522c",
   "metadata": {},
   "source": [
    "## Solution 1\n",
    "\n",
    "1. A thread is a unit of execution within a process.\n",
    "2. Multithreading refers to concurrently executing multiple threads\n",
    "   by rapidly switching the control of the CPU between threads \n",
    "3. the multi-threading is used to share the cpu time between threads \n",
    "   while there is delay in current thread so the cpu time is used  \n",
    "   efficenlty\n",
    "4. module name to handle thread is: \"threading\""
   ]
  },
  {
   "cell_type": "markdown",
   "id": "42a6e63c-d747-4952-a4a7-4917a682bc30",
   "metadata": {},
   "source": [
    "## Solution 2\n",
    "\n",
    "Threading module allows you to have different parts of your process run concurrently\n",
    "\n",
    "activeCount() -> Returns the number of thread objects that are active\n",
    "\n",
    "currentThread() −> Returns the number of thread objects in the caller's thread\n",
    "\n",
    "enumerate() −> Returns a list of all thread objects that are currently active"
   ]
  },
  {
   "cell_type": "markdown",
   "id": "e0cf1718-2d66-418b-8815-17c0aeb808a5",
   "metadata": {},
   "source": [
    "## Solution 3\n",
    "\n",
    "run():\n",
    "run() method is an inbuilt method of the Thread class of the threading module in Python. This method is used to represent a thread's activity. It calls the method expressed as the target argument in the Thread object along with the positional and keyword arguments taken from the args and kwargs arguments\n",
    "\n",
    "start():\n",
    "start() method is an inbuilt method of the Thread class of the threading module in Python. It is used to start a thread's activity. This method calls the run() method internally which then executes the target method. This method must be called at most one time for one thread.\n",
    "\n",
    "join():\n",
    "A thread can be joined in Python by calling the Thread. join() method. This has the effect of blocking the current thread until the target thread that has been joined has terminated\n",
    "\n",
    "isAlive():\n",
    "isAlive() method is an inbuilt method of the Thread class of the threading module in Python. It uses a Thread object, and checks whether that thread is alive or not, ie, it is still running or not. This method returns True before the run() starts until just after the run() method is executed"
   ]
  },
  {
   "cell_type": "markdown",
   "id": "e8d26432-6f1c-4a77-8f29-443a24eed3d4",
   "metadata": {},
   "source": [
    "## Solution 4"
   ]
  },
  {
   "cell_type": "code",
   "execution_count": 6,
   "id": "58362f3b-0986-423c-87f5-3021578528ae",
   "metadata": {},
   "outputs": [
    {
     "name": "stdout",
     "output_type": "stream",
     "text": [
      "Cubes -> [1, 8, 27, 64, 125, 216, 343, 512, 729]\n",
      "Squares ->  [1, 4, 9, 16, 25, 36, 49, 64, 81]\n"
     ]
    }
   ],
   "source": [
    "\n",
    "import threading\n",
    "\n",
    "List1 = [1,2,3,4,5,6,7,8,9]\n",
    "cubes = []\n",
    "squares = []\n",
    "def get_cube(value):\n",
    "    for i in value:\n",
    "        cubes.append(i**3)\n",
    "    \n",
    "def get_squares(value):\n",
    "    for i in value:\n",
    "        squares.append(i**2)\n",
    "    \n",
    "\n",
    "if __name__ == \"__main__\":\n",
    "    t1 = threading.Thread(target = get_cube,args=(List1,))\n",
    "    t2 = threading.Thread(target = get_squares,args=(List1,))\n",
    "\n",
    "    t1.start()\n",
    "    t2.start()\n",
    "    \n",
    "    t1.join()\n",
    "    t2.join()\n",
    "    \n",
    "    print(\"Cubes ->\",cubes)\n",
    "    print(\"Squares -> \",squares)"
   ]
  },
  {
   "cell_type": "markdown",
   "id": "a1ae5490-36d3-4d78-8976-3da8eab829f3",
   "metadata": {},
   "source": [
    "## Solution 5\n",
    "\n",
    "Multi-threading Advantages:\n",
    "    \n",
    "1. Enhanced performance by decreased development time\n",
    "2. Simplified and streamlined program coding\n",
    "3. Improvised GUI responsiveness\n",
    "4. Simultaneous and parallelized occurrence of tasks\n",
    "5. Better use of cache storage by utilization of resources\n",
    "6. Decreased cost of maintenance\n",
    "7. Better use of CPU resource\n",
    "\n",
    "Multi-threading Disadvantages:\n",
    "\n",
    "1. Complex debugging and testing processes\n",
    "2. Overhead switching of context\n",
    "3. Increased potential for deadlock occurrence\n",
    "4. Increased difficulty level in writing a program\n",
    "5. Unpredictable results\n"
   ]
  },
  {
   "cell_type": "markdown",
   "id": "a59ea369-ed1e-43be-b75e-232fc0e180e8",
   "metadata": {},
   "source": [
    "## Solution 6\n",
    "Deadlock :\n",
    "A deadlock is when two (or more) threads are blocking each other. Usually this has something to do with threads trying to acquire shared resources. For example if threads T1 and T2 need to acquire both resources A and B in order to do their work. If T1 acquires resource A, then T2 acquires resource B, T1 could then be waiting for resource B while T2 was waiting for resource A. In this case, both threads will wait indefinitely for the resource held by the other thread. These threads are said to be deadlocked.\n",
    "\n",
    "Race/Race Condition:\n",
    "Race conditions occur when two threads interact in a negatve (buggy) way depending on the exact order that their different instructions are executed. If one thread sets a global variable, for example, then a second thread reads and modifies that global variable, and the first thread reads the variable, the first thread may experience a bug because the variable has changed unexpectedly.\n"
   ]
  },
  {
   "cell_type": "code",
   "execution_count": null,
   "id": "d598a5bf-3183-49ac-b776-ba7ed914c0a6",
   "metadata": {},
   "outputs": [],
   "source": []
  },
  {
   "cell_type": "markdown",
   "id": "56787d24-5202-4491-a99a-e86222266fa4",
   "metadata": {},
   "source": [
    "## THE END"
   ]
  },
  {
   "cell_type": "code",
   "execution_count": null,
   "id": "8c3584c0-22ad-48c8-8f75-f82a2fa3b495",
   "metadata": {},
   "outputs": [],
   "source": []
  }
 ],
 "metadata": {
  "kernelspec": {
   "display_name": "Python 3 (ipykernel)",
   "language": "python",
   "name": "python3"
  },
  "language_info": {
   "codemirror_mode": {
    "name": "ipython",
    "version": 3
   },
   "file_extension": ".py",
   "mimetype": "text/x-python",
   "name": "python",
   "nbconvert_exporter": "python",
   "pygments_lexer": "ipython3",
   "version": "3.10.8"
  }
 },
 "nbformat": 4,
 "nbformat_minor": 5
}
