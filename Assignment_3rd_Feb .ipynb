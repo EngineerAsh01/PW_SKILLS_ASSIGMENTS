{
 "cells": [
  {
   "cell_type": "markdown",
   "id": "1397b50e-6830-4ffe-a591-1ac6d4df9b09",
   "metadata": {},
   "source": [
    "## solution 1\n",
    "the Keyword used to create a function is \"def\""
   ]
  },
  {
   "cell_type": "code",
   "execution_count": 2,
   "id": "841a50f8-f69c-4791-8185-14df7bf4f582",
   "metadata": {},
   "outputs": [
    {
     "name": "stdout",
     "output_type": "stream",
     "text": [
      "[1, 3, 5, 7, 9, 11, 13, 15, 17, 19, 21, 23, 25]\n"
     ]
    }
   ],
   "source": [
    "#Create a function to return a list of odd numbers in the range of 1 to 25\n",
    "\n",
    "def returnoddnum():\n",
    "    numlist = []\n",
    "    for num in range(1,26):\n",
    "        if num%2 != 0:\n",
    "            numlist.append(num)\n",
    "        else:\n",
    "            pass\n",
    "    return numlist\n",
    "        \n",
    "List = returnoddnum()\n",
    "print(List)"
   ]
  },
  {
   "cell_type": "markdown",
   "id": "8cb1a4a7-d7fa-4663-97e5-b1f751b76fb2",
   "metadata": {},
   "source": [
    "## soultion 2\n",
    "\n",
    "*args specifies the number of non-keyworded arguments that can be passed and the operations that can be performed on the function in Python\n",
    "\n",
    " **kwargs is a variable number of keyworded arguments that can be passed to a function that can perform dictionary operations.\n"
   ]
  },
  {
   "cell_type": "code",
   "execution_count": 8,
   "id": "cae4b3a7-a18e-489a-bf0e-49c32eb9e1f0",
   "metadata": {},
   "outputs": [
    {
     "name": "stdout",
     "output_type": "stream",
     "text": [
      "27\n"
     ]
    }
   ],
   "source": [
    "# example for *args\n",
    "def add(*args):\n",
    "    result = 0\n",
    "    for arg in args:\n",
    "        result = result + arg\n",
    "    return result\n",
    "\n",
    "print(add(1,2,3,4,5,6,6))"
   ]
  },
  {
   "cell_type": "code",
   "execution_count": 1,
   "id": "2c733474-2bd5-47bf-a1d9-085809928fe7",
   "metadata": {},
   "outputs": [
    {
     "name": "stdout",
     "output_type": "stream",
     "text": [
      "['sudh teaches python basics', 'krish teaches statics']\n"
     ]
    }
   ],
   "source": [
    "# Example for **kwargs\n",
    "def courses(**kwargs):\n",
    "    result = []\n",
    "    for key,value in kwargs.items():\n",
    "        result.append(\"{0} teaches {1}\".format(key,value))\n",
    "    return result\n",
    "print(courses(sudh=\"python basics\",krish = \"statics\"))"
   ]
  },
  {
   "cell_type": "markdown",
   "id": "becdc10e-16f7-4913-94d3-576c76c774c6",
   "metadata": {},
   "source": [
    "## Soultion 3\n",
    "\n",
    "1. An iterator is an object that can be iterated upon, meaning that you can traverse through all the values\n",
    "2. the two method use to initialise the iterator object and the method used for iteration are : iter() and next()"
   ]
  },
  {
   "cell_type": "code",
   "execution_count": 7,
   "id": "07735530-bd24-48ff-80a2-fe718120b04a",
   "metadata": {},
   "outputs": [
    {
     "name": "stdout",
     "output_type": "stream",
     "text": [
      "2\n",
      "4\n",
      "6\n",
      "8\n",
      "10\n"
     ]
    }
   ],
   "source": [
    "# example\n",
    "List1 = [2,4,6,8,10,12,14,16,18,20]\n",
    "\n",
    "iterator = iter(List1)\n",
    "\n",
    "\n",
    "print(next(iterator))\n",
    "print(next(iterator))\n",
    "print(next(iterator))\n",
    "print(next(iterator))\n",
    "print(next(iterator))\n",
    "\n",
    "# or(shortcut method)\n",
    "# for i in range(5):\n",
    "#     print(next(iterator))\n"
   ]
  },
  {
   "cell_type": "markdown",
   "id": "d50bec0a-b59a-4012-8234-ab7714b45f12",
   "metadata": {},
   "source": [
    "## Solution 4\n",
    "\n",
    "1. A generator-function is defined like a normal function, but whenever it needs to generate a value, it does so with the yield keyword rather than return. If the body of a def contains yield, the function automatically becomes a generator function.\n",
    "2. yied keyword is use to return value from the function while the function is running rather at the end"
   ]
  },
  {
   "cell_type": "code",
   "execution_count": 9,
   "id": "4ec34d98-221c-417d-b08a-5f385a5db776",
   "metadata": {},
   "outputs": [
    {
     "name": "stdout",
     "output_type": "stream",
     "text": [
      "10\n",
      "200\n",
      "test\n"
     ]
    }
   ],
   "source": [
    "#example\n",
    "\n",
    "def generator_test():\n",
    "    yield 10\n",
    "    yield 200\n",
    "    yield 'test'\n",
    "    \n",
    "x = generator_test()\n",
    "\n",
    "print(next(x))\n",
    "print(next(x))\n",
    "print(next(x))"
   ]
  },
  {
   "cell_type": "markdown",
   "id": "423efcce-2a7b-4176-9a67-6e21c0855b41",
   "metadata": {},
   "source": [
    "## solution 5"
   ]
  },
  {
   "cell_type": "code",
   "execution_count": 11,
   "id": "76bb07ec-4305-4002-a665-47c7c80b2355",
   "metadata": {},
   "outputs": [
    {
     "name": "stdout",
     "output_type": "stream",
     "text": [
      "2\n",
      "3\n",
      "5\n",
      "7\n",
      "11\n",
      "13\n",
      "17\n",
      "19\n",
      "23\n",
      "29\n",
      "31\n",
      "37\n",
      "41\n",
      "43\n",
      "47\n",
      "53\n",
      "59\n",
      "61\n",
      "67\n",
      "71\n"
     ]
    }
   ],
   "source": [
    "#example\n",
    "\n",
    "from math import sqrt\n",
    "\n",
    "def is_prime(n):\n",
    "    if (n <= 1):\n",
    "        return False\n",
    "    if (n == 2):\n",
    "        return True\n",
    "    if (n % 2 == 0):\n",
    "        return False\n",
    "\n",
    "    i = 3\n",
    "    while i <= sqrt(n):\n",
    "        if n % i == 0:\n",
    "            return False\n",
    "        i = i + 2\n",
    "\n",
    "    return True\n",
    "\n",
    "def prime_generator():\n",
    "    n = 1\n",
    "    while True:\n",
    "        n += 1\n",
    "        if is_prime(n):\n",
    "            yield n\n",
    "            \n",
    "generator = prime_generator()\n",
    "\n",
    "for i in range(20):\n",
    "    print(next(generator))"
   ]
  },
  {
   "cell_type": "markdown",
   "id": "3446fcdd-a27f-42e7-bd39-57d883691bdb",
   "metadata": {},
   "source": [
    "## THE END"
   ]
  },
  {
   "cell_type": "code",
   "execution_count": null,
   "id": "e14ea316-2f3b-4aa3-81be-bf30158f24e6",
   "metadata": {},
   "outputs": [],
   "source": []
  }
 ],
 "metadata": {
  "kernelspec": {
   "display_name": "Python 3 (ipykernel)",
   "language": "python",
   "name": "python3"
  },
  "language_info": {
   "codemirror_mode": {
    "name": "ipython",
    "version": 3
   },
   "file_extension": ".py",
   "mimetype": "text/x-python",
   "name": "python",
   "nbconvert_exporter": "python",
   "pygments_lexer": "ipython3",
   "version": "3.10.8"
  }
 },
 "nbformat": 4,
 "nbformat_minor": 5
}
