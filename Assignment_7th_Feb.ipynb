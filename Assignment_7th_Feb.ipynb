{
 "cells": [
  {
   "cell_type": "markdown",
   "id": "ac4d497e-9aee-4bc3-b23a-0fcfbf796030",
   "metadata": {},
   "source": [
    "## Solution 1\n"
   ]
  },
  {
   "cell_type": "code",
   "execution_count": 26,
   "id": "5403af46-f9fd-41a9-a7b7-c949f1debd88",
   "metadata": {},
   "outputs": [],
   "source": [
    "def checkpassword(password):\n",
    "    if len(password) == 10:\n",
    "        up_count = 0\n",
    "        low_count = 0\n",
    "        sp_char = 0\n",
    "        num = 0\n",
    "        for char in password:\n",
    "            if char.isupper():\n",
    "                up_count +=1\n",
    "            elif char.islower():\n",
    "                low_count += 1\n",
    "            elif not char.isalnum():\n",
    "                sp_char += 1\n",
    "            elif char.isdigit():\n",
    "                num += 1\n",
    "                \n",
    "        if up_count >= 2  and low_count >= 2 and num >= 1 and sp_char >= 3:\n",
    "            return \"Valid Password!!\"\n",
    "        else:\n",
    "            return \"Invalid Password!!\"\n",
    "    else:\n",
    "        return \"Invalid Password!!\"\n",
    "        "
   ]
  },
  {
   "cell_type": "code",
   "execution_count": 27,
   "id": "107e6f50-6da6-4046-be20-4bc676f53988",
   "metadata": {},
   "outputs": [
    {
     "name": "stdout",
     "output_type": "stream",
     "text": [
      "Valid Password!!\n"
     ]
    }
   ],
   "source": [
    "print(checkpassword(\"TTana@@%l2\"))"
   ]
  },
  {
   "cell_type": "markdown",
   "id": "74b30619-0d5d-4f52-824d-4422e0e30957",
   "metadata": {},
   "source": [
    "## Solution 2"
   ]
  },
  {
   "cell_type": "code",
   "execution_count": 4,
   "id": "3180273e-e198-4896-a5c4-a1f0bdfa5ff6",
   "metadata": {},
   "outputs": [],
   "source": [
    "# check if the string starts with a particular letter\n",
    "\n",
    "checkletter = lambda x,y : True if x[0] == y  else False"
   ]
  },
  {
   "cell_type": "code",
   "execution_count": 5,
   "id": "f409df2c-e5d5-41d6-8862-c51ff6a85d72",
   "metadata": {},
   "outputs": [
    {
     "data": {
      "text/plain": [
       "True"
      ]
     },
     "execution_count": 5,
     "metadata": {},
     "output_type": "execute_result"
    }
   ],
   "source": [
    "checkletter(\"ash\",\"a\")  #(string,particular char)"
   ]
  },
  {
   "cell_type": "code",
   "execution_count": 6,
   "id": "67316f2a-172a-4561-8df4-b55d41cf5db2",
   "metadata": {},
   "outputs": [],
   "source": [
    "#check if the string is numeric\n",
    "check_num = lambda x :  x.replace(\".\",\"\",1).isdigit()"
   ]
  },
  {
   "cell_type": "code",
   "execution_count": 7,
   "id": "885d7a09-b287-4acc-8e2d-3228679e17df",
   "metadata": {},
   "outputs": [
    {
     "data": {
      "text/plain": [
       "True"
      ]
     },
     "execution_count": 7,
     "metadata": {},
     "output_type": "execute_result"
    }
   ],
   "source": [
    "check_num(\"3.14\")"
   ]
  },
  {
   "cell_type": "code",
   "execution_count": 8,
   "id": "0581f592-a3cb-498e-9a8f-3e1cc123e060",
   "metadata": {},
   "outputs": [],
   "source": [
    "# Sort fruit names and quanity\n",
    "List1 = [(\"mango\",99),(\"orange\",80),(\"grapes\",1000)]"
   ]
  },
  {
   "cell_type": "code",
   "execution_count": 13,
   "id": "e5c61979-5697-41d7-8398-d1739a2eda00",
   "metadata": {},
   "outputs": [
    {
     "data": {
      "text/plain": [
       "[99, 80, 1000]"
      ]
     },
     "execution_count": 13,
     "metadata": {},
     "output_type": "execute_result"
    }
   ],
   "source": [
    "list(map(lambda l: l[1] if type(l[1]) == int else l[0],List1))"
   ]
  },
  {
   "cell_type": "code",
   "execution_count": 14,
   "id": "5484f237-ae29-4f4d-908a-dd5f87c65ab1",
   "metadata": {},
   "outputs": [
    {
     "data": {
      "text/plain": [
       "['mango', 'orange', 'grapes']"
      ]
     },
     "execution_count": 14,
     "metadata": {},
     "output_type": "execute_result"
    }
   ],
   "source": [
    "list(map(lambda l: l[1] if type(l[1]) == str else l[0],List1))"
   ]
  },
  {
   "cell_type": "code",
   "execution_count": 10,
   "id": "b2e2a44e-07bd-4491-9ae0-284391231940",
   "metadata": {},
   "outputs": [
    {
     "data": {
      "text/plain": [
       "[1, 4, 9, 16, 25, 36, 49, 64, 81, 100]"
      ]
     },
     "execution_count": 10,
     "metadata": {},
     "output_type": "execute_result"
    }
   ],
   "source": [
    "#find the squares of number from 1 to 10\n",
    "\n",
    "list(map(lambda x : x**2,[i for i in range(1,11)]))"
   ]
  },
  {
   "cell_type": "code",
   "execution_count": 11,
   "id": "c3e99f7c-a16d-4c56-ab83-bb3933f96a7b",
   "metadata": {},
   "outputs": [
    {
     "data": {
      "text/plain": [
       "[1.0,\n",
       " 1.2599210498948732,\n",
       " 1.4422495703074083,\n",
       " 1.5874010519681994,\n",
       " 1.7099759466766968,\n",
       " 1.8171205928321397,\n",
       " 1.912931182772389,\n",
       " 2.0,\n",
       " 2.080083823051904,\n",
       " 2.154434690031884]"
      ]
     },
     "execution_count": 11,
     "metadata": {},
     "output_type": "execute_result"
    }
   ],
   "source": [
    "#find the cube root of number from 1 to 10\n",
    "list(map(lambda x : x**(1/3),[i for i in range(1,11)]))"
   ]
  },
  {
   "cell_type": "code",
   "execution_count": 15,
   "id": "3004a23a-aa89-49d0-a83b-43d737fee86a",
   "metadata": {},
   "outputs": [],
   "source": [
    "# check for even\n",
    "check_even = lambda x : \"Even\" if x%2 == 0 else \"Odd\""
   ]
  },
  {
   "cell_type": "code",
   "execution_count": 19,
   "id": "4e72fda9-5f50-41b6-8bf0-2cd7ac6103bf",
   "metadata": {},
   "outputs": [
    {
     "data": {
      "text/plain": [
       "'Even'"
      ]
     },
     "execution_count": 19,
     "metadata": {},
     "output_type": "execute_result"
    }
   ],
   "source": [
    "check_even(120)"
   ]
  },
  {
   "cell_type": "code",
   "execution_count": 20,
   "id": "1de167e1-aa99-4cd4-9fe7-c762011454e2",
   "metadata": {},
   "outputs": [
    {
     "data": {
      "text/plain": [
       "'Odd'"
      ]
     },
     "execution_count": 20,
     "metadata": {},
     "output_type": "execute_result"
    }
   ],
   "source": [
    "check_even(3)"
   ]
  },
  {
   "cell_type": "code",
   "execution_count": 25,
   "id": "a223a5c0-8c0d-4876-bb0a-73d5047f2741",
   "metadata": {},
   "outputs": [
    {
     "data": {
      "text/plain": [
       "[1, 3, 5, 7, 9]"
      ]
     },
     "execution_count": 25,
     "metadata": {},
     "output_type": "execute_result"
    }
   ],
   "source": [
    "#filter odd no in gaiven list\n",
    "List2 = [1,2,3,4,5,6,7,8,9,10]\n",
    "list(filter(lambda x : x%2 != 0 , List2 ))"
   ]
  },
  {
   "cell_type": "code",
   "execution_count": 28,
   "id": "c622a984-5d3f-4502-937d-6a2abe727325",
   "metadata": {},
   "outputs": [
    {
     "data": {
      "text/plain": [
       "[1, 2, 3, 4, 5, 6, 0]"
      ]
     },
     "execution_count": 28,
     "metadata": {},
     "output_type": "execute_result"
    }
   ],
   "source": [
    "#sort list into positive and negative\n",
    "List3 = [1,2,3,4,5,6,-1,-2,-3,-4,-5,0]\n",
    "\n",
    "list(filter(lambda x : x >= 0 , List3 ))"
   ]
  },
  {
   "cell_type": "code",
   "execution_count": 24,
   "id": "dfcf2564-37f0-4663-85fb-7bd582daa3d3",
   "metadata": {},
   "outputs": [
    {
     "data": {
      "text/plain": [
       "[-1, -2, -3, -4, -5]"
      ]
     },
     "execution_count": 24,
     "metadata": {},
     "output_type": "execute_result"
    }
   ],
   "source": [
    "list(filter(lambda x : x < 0 , List3 ))"
   ]
  },
  {
   "cell_type": "markdown",
   "id": "c8bb372b-061f-4d39-983e-72cd973b794e",
   "metadata": {},
   "source": [
    "## THE END\n"
   ]
  },
  {
   "cell_type": "code",
   "execution_count": null,
   "id": "60c74e34-93f1-4627-92a5-9191ee5efd59",
   "metadata": {},
   "outputs": [],
   "source": []
  }
 ],
 "metadata": {
  "kernelspec": {
   "display_name": "Python 3 (ipykernel)",
   "language": "python",
   "name": "python3"
  },
  "language_info": {
   "codemirror_mode": {
    "name": "ipython",
    "version": 3
   },
   "file_extension": ".py",
   "mimetype": "text/x-python",
   "name": "python",
   "nbconvert_exporter": "python",
   "pygments_lexer": "ipython3",
   "version": "3.10.8"
  }
 },
 "nbformat": 4,
 "nbformat_minor": 5
}
