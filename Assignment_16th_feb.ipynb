{
 "cells": [
  {
   "cell_type": "markdown",
   "id": "e4300f8f-1ddb-4cf8-a165-7879c53173a5",
   "metadata": {},
   "source": [
    "## Solution 1\n",
    "1. A database is an organized collection of structured information, or data, typically stored electronically in a computer system. A database is usually controlled by a database management system (DBMS). Together, the data and the DBMS, along with the applications that are associated with them, are referred to as a database system, often shortened to just database.\n",
    "\n",
    "2. Data within the most common types of databases in operation today is typically modeled in rows and columns in a series of tables to make processing and data querying efficient. The data can then be easily accessed, managed, modified, updated, controlled, and organized. Most databases use structured query language (SQL) for writing and querying data.\n",
    "\n",
    "SQL\n",
    "1. RELATIONAL DATABASE MANAGEMENT SYSTEM.\n",
    "2. These databases have fixed or static or predefined schema.\n",
    "3. These databases are not suited for hierarchical data storage.\n",
    "4. These databases are best suited for complex queries.\n",
    "5. Examples: MySQL, PostgreSQL, Oracle, MS-SQL Server, etc.\n",
    "\n",
    "NoSQL\n",
    "1. Non-relational or distributed database system\n",
    "2. They have dynamic schema\n",
    "3. These databases are best suited for hierarchical data storage.\n",
    "4. These databases are not so good for complex queries\n",
    "5. Examples: MongoDB, GraphQL, HBase, Neo4j, Cassandra, etc\n",
    "\n"
   ]
  },
  {
   "cell_type": "markdown",
   "id": "b0f7d764-a902-45a8-afe9-aea5a7aedc79",
   "metadata": {},
   "source": [
    "## Solutuon 2\n",
    "DDL or Data Definition Language actually consists of the SQL commands that can be used to define the database schema. It simply deals with descriptions of the database schema and is used to create and modify the structure of database objects in the database. DDL is a set of SQL commands used to create, modify, and delete database structures but not data. These commands are normally not used by a general user, who should be accessing the database via an application.\n",
    "\n",
    "List of DDL commands: \n",
    "1. CREATE: This command is used to create the database or its objects\n",
    "   (like table, index, function, views, store procedure, and\n",
    "   triggers).\n",
    "2. DROP: This command is used to delete objects from the database.\n",
    "3. ALTER: This is used to alter the structure of the database.\n",
    "4. TRUNCATE: This is used to remove all records from a table, including all spaces allocated for the records are removed.\n",
    "5. COMMENT: This is used to add comments to the data dictionary.\n",
    "6. RENAME: This is used to rename an object existing in the database.\n",
    "\n"
   ]
  },
  {
   "cell_type": "markdown",
   "id": "0bae89a0-e8ad-4113-b2ed-d9c8c955f9d1",
   "metadata": {},
   "source": [
    "#CREATE TABLE:\n",
    "A Table is combination of rows and columns. For creating table we have to define the structure of table by adding name to columns, providing data type and size of data to be stored in columns.\n",
    "\n",
    "SYNTAX -> CREATE table table_name(Columnn1 datatype (size),Columnn2  datatype (size),.....,Columnn(n) datatype (size)); \n",
    "\n",
    "EXAMPLE -> CREATE table test(name VARCHAR(20), age INT,email VARCHAR(50));\n",
    "\n",
    "#DROP:\n",
    "DROP is used to delete a whole database or just a table.The DROP statement destroys the objects like an existing database, table, index, or view.\n",
    "\n",
    "SYNTAX -> DROP TABLE table_name; : to drop table. -> DROP DATABASE               DROP DATABASE database_name; : to drop a database.\n",
    "\n",
    "EXAMPLE -> DROP DATABASE Student;\n",
    "\n",
    "#TRUNCATE:\n",
    "TRUNCATE statement is a Data Definition Language (DDL) operation that is used to mark the extents of a table for deallocation (empty for reuse). The result of this operation quickly removes all data from a table, typically bypassing a number of integrity enforcing mechanisms.\n",
    "\n",
    "SYNTAX -> TRUNCATE TABLE table_name;\n",
    "\n",
    "EXAMPLE -> TRUNCATE TABLE Student_details;\n",
    "\n",
    "#ALTER:\n",
    "ALTER TABLE is used to add, delete/drop or modify columns in the existing table. It is also used to add and drop various constraints on the existing table.\n",
    "\n",
    "1. ALTER TABLE – ADD\n",
    "SYNTAX -> ALTER TABLE table_name ADD(Columnn1  datatype,Columnn2  datatype,....,Columnn(n)  datatype);\n",
    "\n",
    "EXAMPLE -> ALTER TABLE test ADD (course VARCHAR(20),payment INT);\n",
    "\n",
    "2. ALTER TABLE – DROP\n",
    "SYNTAX -> ALTER TABLE table_name DROP COLUMN column_name;\n",
    "\n",
    "EXAMPLE -> ALTER TABLE test DROP COLUMN payment;\n",
    "\n",
    "3. ALTER TABLE-MODIFY\n",
    "SYNTAX -> ALTER TABLE table_name MODIFY column_name column_type;\n",
    "\n",
    "EXAMPLE -> ALTER TABLE test MODIFY payment FLOAT;\n"
   ]
  },
  {
   "cell_type": "markdown",
   "id": "e5768c78-63ef-4730-b514-267403a87d76",
   "metadata": {},
   "source": [
    "## Solution 3\n",
    "The SQL commands that deals with the manipulation of data present in the database belong to DML or Data Manipulation Language and this includes most of the SQL statements. It is the component of the SQL statement that controls access to data and to the database. Basically, DCL statements are grouped with DML statements.\n",
    "\n",
    "List of DML commands: \n",
    "INSERT : It is used to insert data into a table.\n",
    "UPDATE: It is used to update existing data within a table.\n",
    "DELETE : It is used to delete records from a database table.\n"
   ]
  },
  {
   "cell_type": "markdown",
   "id": "7351e58f-011a-47a9-bb59-171ab96afa18",
   "metadata": {},
   "source": [
    "#INSERT:\n",
    "The INSERT INTO statement of SQL is used to insert a new row in a table. There are two ways of using INSERT INTO statement for inserting rows\n",
    "\n",
    "1. only values:\n",
    "    SYNTAX -> INSERT INTO table_name VALUES (value1, value2, value3,…);\n",
    "    EXAMPLE -> INSERT INTO test.table1 VALUES (value1, value2, value3);\n",
    "2. Column names and values both:\n",
    "    SYNTAX -> INSERT INTO test.table1 (column1, column2, column3) VALUES( 1, 2, 3);\n",
    "\n",
    "Note: test is the database name\n",
    "\n",
    "#UPDATE:\n",
    "The UPDATE statement in SQL is used to update the data of an existing table in database. We can update single columns as well as multiple columns using UPDATE statement as per our requirement.\n",
    "\n",
    "SYNTAX -> UPDATE table_name SET column1 = value1, column2 = value2,... \n",
    "WHERE condition;\n",
    "\n",
    "1. Updating single column:\n",
    "    EXAMPLE -> UPDATE Student SET NAME = 'ASH' WHERE Age = 20;\n",
    "    \n",
    "2. Updating multiple columns:\n",
    "    EXAMPLE ->UPDATE Student SET NAME = 'ASH', ADDRESS = 'mumbai' WHERE ROLL_NO = 1;\n",
    "    \n",
    "3. Omitting WHERE clause:\n",
    "    EXAMPKE -> UPDATE Student SET NAME = 'TANAY';\n",
    "    \n",
    "    Note : this will update whole table\n",
    "    \n",
    "#DELETE:\n",
    "The DELETE Statement in SQL is used to delete existing records from a table. We can delete a single record or multiple records depending on the condition we specify in the WHERE clause.\n",
    "\n",
    "SYNTAX -> DELETE FROM table_name WHERE some_condition;\n",
    "\n",
    "1. Deleting single record:\n",
    "    EXAMPLE -> DELETE FROM Student WHERE NAME = 'ASH';\n",
    "\n",
    "2. Deleting multiple records:\n",
    "    DELETE FROM Student WHERE Age = 20;\n",
    "    \n",
    "3. Delete all of the records:\n",
    "    \"DELETE * FROM Student\";"
   ]
  },
  {
   "cell_type": "markdown",
   "id": "3136ff9f-dd7a-4fdc-9c07-8fb41e750b72",
   "metadata": {},
   "source": [
    "## Solution 4\n",
    "DQL or Data Query Language, statements are used for performing queries on the data within schema objects. The purpose of the DQL Command is to get some schema relation based on the query passed to it. We can define DQL as follows it is a component of SQL statement that allows getting data from the database and imposing order upon it. It includes the SELECT statement. This command allows getting the data out of the database to perform operations with it. When a SELECT is fired against a table or tables the result is compiled into a further temporary table, which is displayed or perhaps received by the program i.e. a front-end.\n",
    "\n",
    "List of DQL: \n",
    "SELECT: It is used to retrieve data from the database.\n",
    "\n",
    "SYNTAX: SELECT column1,column2 FROM table_name;\n",
    "\n",
    "EXAMPLE: SELECT * FROM Student;"
   ]
  },
  {
   "cell_type": "markdown",
   "id": "62bc5a94-e5aa-4bdc-b1a3-ced859077aee",
   "metadata": {},
   "source": [
    "# Solution 5\n",
    "Primary Key: \n",
    "1. A primary key is used to ensure data in the specific column is unique.\n",
    "2. It uniquely identifies a record in the relational database table.\n",
    "3. Only one primary key is allowed in a table.\n",
    "4. It is a combination of UNIQUE and Not Null constraints.\n",
    "5. Its value cannot be deleted from the parent table.\n",
    "\n",
    "Foreign Key: \n",
    "1. A foreign key is a column or group of columns in a relational database table that provides a link between data in two tables.\n",
    "2. It refers to the field in a table which is the primary key of another table.\n",
    "3. Whereas more than one foreign key are allowed in a table.\n",
    "4. It can contain duplicate values and a table in a relational database.\n",
    "5. Its value can be deleted from the child table.\n"
   ]
  },
  {
   "cell_type": "markdown",
   "id": "b78ef300-25a4-4136-be8e-2f97ff5d9710",
   "metadata": {},
   "source": [
    "## Solution 6"
   ]
  },
  {
   "cell_type": "code",
   "execution_count": null,
   "id": "b1f25a90-868b-4363-abb7-e89428f55f09",
   "metadata": {},
   "outputs": [],
   "source": [
    "#python code to connect to MySql and create database\n",
    "import mysql.connector\n",
    "\n",
    "mydb = mysql.connector.connect(host=\"localhost\",user=\"abc\",password=\"password\")\n",
    "mycursor = mydb.cursor()\n",
    "mycursor.execute(\"CREATE DATABASE if not exists test\")\n",
    "mydb.close()"
   ]
  },
  {
   "cell_type": "markdown",
   "id": "bf72947c-6959-40d2-b438-12e94f80a659",
   "metadata": {},
   "source": [
    "execute():\n",
    "This method accepts a MySQL query as a parameter and executes the given query.\n",
    "\n",
    "cursor()\n",
    "The MySQLCursor of mysql-connector-python is used to execute statements to communicate with the MySQL database. Using the methods of it you can execute SQL statements, fetch data from the result sets, call procedures.\n"
   ]
  },
  {
   "cell_type": "markdown",
   "id": "27207ffa-14de-4338-bb7b-fb42e3c3bb9c",
   "metadata": {},
   "source": [
    "## Solution 7\n",
    "\n",
    "In a typical SQL query, the clauses are executed in the following order:\n",
    "\n",
    "In SQL, the order of execution of clauses in a query is as follows:\n",
    "\n",
    "FROM clause: This clause specifies the tables from which the data will be retrieved.\n",
    "\n",
    "WHERE clause: This clause is used to filter the rows based on specific conditions.\n",
    "\n",
    "GROUP BY clause: This clause is used to group the data based on one or more columns.\n",
    "\n",
    "HAVING clause: This clause is used to filter the groups based on specific conditions.\n",
    "\n",
    "SELECT clause: This clause is used to select the columns that will be displayed in the result set.\n",
    "\n",
    "ORDER BY clause: This clause is used to sort the result set based on one or more columns.\n",
    "\n",
    "LIMIT clause: This clause is used to limit the number of rows returned by the query."
   ]
  },
  {
   "cell_type": "markdown",
   "id": "8f4c4b05-9586-4999-8c69-bae8c78b32d3",
   "metadata": {},
   "source": [
    "## THE END"
   ]
  },
  {
   "cell_type": "code",
   "execution_count": null,
   "id": "61c63b02-8def-431b-963c-27bc18f85362",
   "metadata": {},
   "outputs": [],
   "source": []
  }
 ],
 "metadata": {
  "kernelspec": {
   "display_name": "Python 3 (ipykernel)",
   "language": "python",
   "name": "python3"
  },
  "language_info": {
   "codemirror_mode": {
    "name": "ipython",
    "version": 3
   },
   "file_extension": ".py",
   "mimetype": "text/x-python",
   "name": "python",
   "nbconvert_exporter": "python",
   "pygments_lexer": "ipython3",
   "version": "3.10.8"
  }
 },
 "nbformat": 4,
 "nbformat_minor": 5
}
