{
 "cells": [
  {
   "cell_type": "markdown",
   "id": "1a4fdb7d-5043-48b2-8477-1f77fb2e98db",
   "metadata": {},
   "source": [
    "# Solution 1"
   ]
  },
  {
   "cell_type": "code",
   "execution_count": 14,
   "id": "52b5c27a-c465-46e9-b204-89eaf36faa67",
   "metadata": {},
   "outputs": [],
   "source": [
    "list1 = [1,2,3,4, [44,55,66, True], False, (34,56,78,89,34), {1,2,3,3,2,1}, {1:34, \"key2\": [55, 67, 78, 89], 4: (45,\n",
    "22, 61, 34)}, [56, 'data science'], 'Machine Learning']"
   ]
  },
  {
   "cell_type": "code",
   "execution_count": 15,
   "id": "da700b9c-8dda-4778-8f10-5f9ff3707828",
   "metadata": {},
   "outputs": [
    {
     "name": "stdout",
     "output_type": "stream",
     "text": [
      "[1, 2, 3, 4, [44, 55, 66, True], False, (34, 56, 78, 89, 34), {1, 2, 3}, {1: 34, 'key2': [55, 67, 78, 89], 4: (45, 22, 61, 34)}, [56, 'data science'], 'Machine Learning']\n"
     ]
    }
   ],
   "source": [
    "print(list1)"
   ]
  },
  {
   "cell_type": "code",
   "execution_count": 29,
   "id": "ccadeaad-e66f-4a7d-a84f-223dfcf62913",
   "metadata": {},
   "outputs": [
    {
     "name": "stdout",
     "output_type": "stream",
     "text": [
      "[1, 2, 3, 4, 44, 55, 66, 34, 56, 78, 89, 34, 1, 2, 3, 1, 4, 34, 55, 67, 78, 89, 45, 22, 61, 34, 56]\n",
      "The Product of all the numbers: 4134711838987085478833841242112000\n"
     ]
    }
   ],
   "source": [
    "from functools import reduce\n",
    "def getlist(pass_here):\n",
    "    new_list = []\n",
    "    for element in pass_here:\n",
    "        if type(element) == int:\n",
    "            new_list.append(element)\n",
    "        elif type(element) == set:\n",
    "            for i in element:\n",
    "                if type(i) == int:\n",
    "                    new_list.append(i)\n",
    "        elif type(element) == list:\n",
    "            for i in element:\n",
    "                if type(i) == int:\n",
    "                    new_list.append(i)\n",
    "        elif type(element) == tuple:\n",
    "            for i in element:\n",
    "                if type(i) == int:\n",
    "                    new_list.append(i)\n",
    "                    \n",
    "        elif type(element) == dict:\n",
    "            for i in list(element.keys()):\n",
    "                if type(i) == int:\n",
    "                    new_list.append(i)\n",
    "            for i in list(element.values()):\n",
    "                if type(i) == int:\n",
    "                    new_list.append(i)\n",
    "                elif type(i) == list:\n",
    "                    for j in i:\n",
    "                        if type(j) == int:\n",
    "                            new_list.append(j)\n",
    "                elif type(i) == tuple:\n",
    "                    for j in i:\n",
    "                        if type(j) == int:\n",
    "                            new_list.append(j)\n",
    "                    \n",
    "    print(new_list)\n",
    "    return reduce(lambda x,y : x*y ,new_list)\n",
    "\n",
    "\n",
    "print(\"The Product of all the numbers:\",getlist(list1))"
   ]
  },
  {
   "cell_type": "markdown",
   "id": "135d634d-aad6-49bf-b84e-9023f707ce0a",
   "metadata": {},
   "source": [
    "# Solution 2"
   ]
  },
  {
   "cell_type": "code",
   "execution_count": 45,
   "id": "b784a853-3406-46c9-a79f-9a45ba76d77a",
   "metadata": {},
   "outputs": [
    {
     "name": "stdout",
     "output_type": "stream",
     "text": [
      "i$wznt$to$yexome$z$dztz$sxientist\n"
     ]
    }
   ],
   "source": [
    "#a = z,b = y,c = x\n",
    "\n",
    "def encrypt(value):\n",
    "    temp = []\n",
    "    for i in range(len(value)):\n",
    "        if value[i] == \"a\":\n",
    "            temp.append(\"z\")\n",
    "        elif value[i] == \"b\":\n",
    "            temp.append(\"y\")\n",
    "        elif value[i] == \"c\":\n",
    "            temp.append(\"x\")\n",
    "        elif value[i] == \" \":\n",
    "            temp.append(\"$\")\n",
    "        else:\n",
    "            temp.append(value[i])\n",
    "        \n",
    "    return reduce(lambda x,y : x+y ,temp)\n",
    "        \n",
    "print(encrypt((\"I want to become a Data Scientist\").lower()))\n",
    "\n",
    "        "
   ]
  },
  {
   "cell_type": "code",
   "execution_count": 46,
   "id": "0a6454ce-804f-4d8a-a530-032687bf91c2",
   "metadata": {},
   "outputs": [
    {
     "name": "stdout",
     "output_type": "stream",
     "text": [
      "i$wznt$to$yexome$z$dztz$sxientist.\n"
     ]
    }
   ],
   "source": [
    "#a = z,b = y,c = x\n",
    "\n",
    "def encrypt(value):\n",
    "    temp = []\n",
    "    for i in range(len(value)):\n",
    "        if value[i] == \"a\":\n",
    "            temp.append(\"z\")\n",
    "        elif value[i] == \"b\":\n",
    "            temp.append(\"y\")\n",
    "        elif value[i] == \"c\":\n",
    "            temp.append(\"x\")\n",
    "        elif value[i] == \" \":\n",
    "            temp.append(\"$\")\n",
    "        else:\n",
    "            temp.append(value[i])\n",
    "        \n",
    "    return reduce(lambda x,y : x+y ,temp)\n",
    "        \n",
    "print(encrypt((\"I want to become a Data Scientist.\").lower()))\n",
    "\n",
    "        "
   ]
  },
  {
   "cell_type": "markdown",
   "id": "9b4abe84-313b-4842-868d-a430c4dce330",
   "metadata": {},
   "source": [
    "# THE END\n",
    "\n",
    "        "
   ]
  },
  {
   "cell_type": "code",
   "execution_count": null,
   "id": "ae16e603-31aa-442c-bc86-45c8722a04b7",
   "metadata": {},
   "outputs": [],
   "source": []
  }
 ],
 "metadata": {
  "kernelspec": {
   "display_name": "Python 3 (ipykernel)",
   "language": "python",
   "name": "python3"
  },
  "language_info": {
   "codemirror_mode": {
    "name": "ipython",
    "version": 3
   },
   "file_extension": ".py",
   "mimetype": "text/x-python",
   "name": "python",
   "nbconvert_exporter": "python",
   "pygments_lexer": "ipython3",
   "version": "3.10.8"
  }
 },
 "nbformat": 4,
 "nbformat_minor": 5
}
