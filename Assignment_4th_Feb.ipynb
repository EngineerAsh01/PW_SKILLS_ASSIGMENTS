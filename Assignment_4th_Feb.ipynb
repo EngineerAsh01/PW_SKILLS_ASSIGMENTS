{
 "cells": [
  {
   "cell_type": "markdown",
   "id": "af5cc5e4-b5ff-4f74-9e3d-eb58b05c3057",
   "metadata": {},
   "source": [
    "## Solution 1"
   ]
  },
  {
   "cell_type": "code",
   "execution_count": 1,
   "id": "0fe9e90b-e4b2-46df-874d-c8ea70e131df",
   "metadata": {},
   "outputs": [],
   "source": [
    "List1 = [('Sachin Tendulkar', 34357), ('Ricky Ponting', 27483), ('Jack Kallis', 25534), ('Virat Kohli', 24936)]"
   ]
  },
  {
   "cell_type": "code",
   "execution_count": 20,
   "id": "adc7abc3-7c1a-467e-a071-43933b56e250",
   "metadata": {},
   "outputs": [
    {
     "data": {
      "text/plain": [
       "[34357, 27483, 25534, 24936]"
      ]
     },
     "execution_count": 20,
     "metadata": {},
     "output_type": "execute_result"
    }
   ],
   "source": [
    "\n",
    "list(map(lambda l: l[1] if type(l[1]) == int else l[0],List1))"
   ]
  },
  {
   "cell_type": "markdown",
   "id": "080dc9a9-5d92-4e8a-a5c4-bb299e6fb824",
   "metadata": {},
   "source": [
    "## Solution 2"
   ]
  },
  {
   "cell_type": "code",
   "execution_count": 21,
   "id": "fe974c49-7a35-4acf-a51a-6de577bf9f37",
   "metadata": {},
   "outputs": [],
   "source": [
    "List2 = [1, 2, 3, 4, 5, 6, 7, 8, 9, 10]"
   ]
  },
  {
   "cell_type": "code",
   "execution_count": 22,
   "id": "05d55e27-1901-4d5d-8682-0d6fa9d1a631",
   "metadata": {},
   "outputs": [
    {
     "data": {
      "text/plain": [
       "[1, 4, 9, 16, 25, 36, 49, 64, 81, 100]"
      ]
     },
     "execution_count": 22,
     "metadata": {},
     "output_type": "execute_result"
    }
   ],
   "source": [
    "list(map(lambda l : l**2,List2))"
   ]
  },
  {
   "cell_type": "markdown",
   "id": "b34ac533-8768-4aa0-a0f0-94e0d901d983",
   "metadata": {},
   "source": [
    "## Solution 3"
   ]
  },
  {
   "cell_type": "code",
   "execution_count": 24,
   "id": "6db9615a-c5fb-4c22-9acf-8c6c5ae05180",
   "metadata": {},
   "outputs": [],
   "source": [
    "List3 = [1, 2, 3, 4, 5, 6, 7, 8, 9, 10]"
   ]
  },
  {
   "cell_type": "code",
   "execution_count": 26,
   "id": "cd53b1f9-110a-4eff-91b8-64ff344e003a",
   "metadata": {},
   "outputs": [
    {
     "data": {
      "text/plain": [
       "('1', '2', '3', '4', '5', '6', '7', '8', '9', '10')"
      ]
     },
     "execution_count": 26,
     "metadata": {},
     "output_type": "execute_result"
    }
   ],
   "source": [
    "tuple(map(lambda l : str(l),List3))"
   ]
  },
  {
   "cell_type": "markdown",
   "id": "91eb8187-6932-44aa-91f6-90631d2f3ebc",
   "metadata": {},
   "source": [
    "## Solution 4"
   ]
  },
  {
   "cell_type": "code",
   "execution_count": 28,
   "id": "1a36c763-b462-47e0-8e63-74a9764de97d",
   "metadata": {},
   "outputs": [
    {
     "data": {
      "text/plain": [
       "15511210043330985984000000"
      ]
     },
     "execution_count": 28,
     "metadata": {},
     "output_type": "execute_result"
    }
   ],
   "source": [
    "from functools import reduce\n",
    "\n",
    "reduce(lambda x,y : x*y,[i for i in range(1,26)])"
   ]
  },
  {
   "cell_type": "markdown",
   "id": "8a03e015-00e7-490d-88e4-b09bba45cec6",
   "metadata": {},
   "source": [
    "## Solution 5"
   ]
  },
  {
   "cell_type": "code",
   "execution_count": 31,
   "id": "edcbb873-f9c3-4f71-9d78-549ef2611084",
   "metadata": {},
   "outputs": [],
   "source": [
    "List4 = [2, 3, 6, 9, 27, 60, 90, 120, 55, 46]"
   ]
  },
  {
   "cell_type": "code",
   "execution_count": 35,
   "id": "6af25b1c-8986-48af-a999-4f7a002dcb2c",
   "metadata": {},
   "outputs": [
    {
     "data": {
      "text/plain": [
       "[2, 6, 60, 90, 120, 46]"
      ]
     },
     "execution_count": 35,
     "metadata": {},
     "output_type": "execute_result"
    }
   ],
   "source": [
    "list(filter(lambda x : x%2 == 0  , List4))"
   ]
  },
  {
   "cell_type": "code",
   "execution_count": 36,
   "id": "f3bc62de-f878-4396-8f4a-de140963e74c",
   "metadata": {},
   "outputs": [
    {
     "data": {
      "text/plain": [
       "[3, 6, 9, 27, 60, 90, 120]"
      ]
     },
     "execution_count": 36,
     "metadata": {},
     "output_type": "execute_result"
    }
   ],
   "source": [
    "list(filter(lambda x : x%3 == 0  , List4))"
   ]
  },
  {
   "cell_type": "markdown",
   "id": "e3cde142-511f-44d2-9aaf-4e8c83811dd2",
   "metadata": {},
   "source": [
    "## Slolution 6"
   ]
  },
  {
   "cell_type": "code",
   "execution_count": 41,
   "id": "8087084a-3d82-4cc3-a4b2-23d97920de75",
   "metadata": {},
   "outputs": [],
   "source": [
    "List5 = ['python', 'php', 'aba', 'radar', 'level']"
   ]
  },
  {
   "cell_type": "code",
   "execution_count": 42,
   "id": "50904010-9d6e-4888-a5fe-8f9d40b4e7a0",
   "metadata": {},
   "outputs": [
    {
     "data": {
      "text/plain": [
       "['php', 'aba', 'radar', 'level']"
      ]
     },
     "execution_count": 42,
     "metadata": {},
     "output_type": "execute_result"
    }
   ],
   "source": [
    "list(filter(lambda x : x == x[::-1] ,List5 ))"
   ]
  },
  {
   "cell_type": "markdown",
   "id": "0643888c-9c47-435a-8ee3-41858ef00c41",
   "metadata": {},
   "source": [
    "## THE END"
   ]
  },
  {
   "cell_type": "code",
   "execution_count": null,
   "id": "30d91198-3e14-4c10-87a0-f2a0ab6ae402",
   "metadata": {},
   "outputs": [],
   "source": []
  }
 ],
 "metadata": {
  "kernelspec": {
   "display_name": "Python 3 (ipykernel)",
   "language": "python",
   "name": "python3"
  },
  "language_info": {
   "codemirror_mode": {
    "name": "ipython",
    "version": 3
   },
   "file_extension": ".py",
   "mimetype": "text/x-python",
   "name": "python",
   "nbconvert_exporter": "python",
   "pygments_lexer": "ipython3",
   "version": "3.10.8"
  }
 },
 "nbformat": 4,
 "nbformat_minor": 5
}
