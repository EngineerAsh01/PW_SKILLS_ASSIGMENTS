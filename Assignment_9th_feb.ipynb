{
 "cells": [
  {
   "cell_type": "markdown",
   "id": "ce700fe3-25f5-4777-9f5a-95e3da9894c3",
   "metadata": {},
   "source": [
    "## Solution 1"
   ]
  },
  {
   "cell_type": "code",
   "execution_count": 1,
   "id": "c624ed2b-8422-4bfe-bff6-e259b8708f0d",
   "metadata": {},
   "outputs": [],
   "source": [
    "#example\n",
    "class vehicle:\n",
    "    def __init__(self,name,speed,average):\n",
    "        self.name_of_vehicle = name\n",
    "        self.max_speed = speed\n",
    "        self.average_of_vehicle = average\n",
    "        \n",
    "obj = vehicle(\"Toyota\",120,25)"
   ]
  },
  {
   "cell_type": "code",
   "execution_count": 2,
   "id": "b63337dc-bf9d-454b-8cb0-50348ce5a1f0",
   "metadata": {},
   "outputs": [
    {
     "data": {
      "text/plain": [
       "'Toyota'"
      ]
     },
     "execution_count": 2,
     "metadata": {},
     "output_type": "execute_result"
    }
   ],
   "source": [
    "obj.name_of_vehicle\n"
   ]
  },
  {
   "cell_type": "code",
   "execution_count": 4,
   "id": "c6e08ed2-b6ec-4ddf-8420-f8a747f0d84d",
   "metadata": {},
   "outputs": [
    {
     "data": {
      "text/plain": [
       "120"
      ]
     },
     "execution_count": 4,
     "metadata": {},
     "output_type": "execute_result"
    }
   ],
   "source": [
    "obj.max_speed"
   ]
  },
  {
   "cell_type": "code",
   "execution_count": 5,
   "id": "84c40e98-ec2c-4860-ade6-b95b174219ca",
   "metadata": {},
   "outputs": [
    {
     "data": {
      "text/plain": [
       "25"
      ]
     },
     "execution_count": 5,
     "metadata": {},
     "output_type": "execute_result"
    }
   ],
   "source": [
    "obj.average_of_vehicle"
   ]
  },
  {
   "cell_type": "markdown",
   "id": "a0b4e411-745a-436d-a35f-3bc15a30ba62",
   "metadata": {},
   "source": [
    "## Solution 2"
   ]
  },
  {
   "cell_type": "code",
   "execution_count": 16,
   "id": "fc09aafe-465e-45f2-b260-290e9ebe6f93",
   "metadata": {},
   "outputs": [],
   "source": [
    "class car(vehicle):\n",
    "    def __init__(self,capacity):\n",
    "        self.capacity = capacity\n",
    "    def seating_capacity(self):\n",
    "        return self.name_of_vehicle,self.capacity"
   ]
  },
  {
   "cell_type": "code",
   "execution_count": 17,
   "id": "94de9881-ba37-40f6-8a75-29097a895ff3",
   "metadata": {},
   "outputs": [],
   "source": [
    "obj = car(4)\n",
    "obj.name_of_vehicle = \"Toyota\""
   ]
  },
  {
   "cell_type": "code",
   "execution_count": 18,
   "id": "9f289283-8011-4667-9564-31613af41bda",
   "metadata": {},
   "outputs": [
    {
     "data": {
      "text/plain": [
       "('Toyota', 4)"
      ]
     },
     "execution_count": 18,
     "metadata": {},
     "output_type": "execute_result"
    }
   ],
   "source": [
    "obj.seating_capacity()"
   ]
  },
  {
   "cell_type": "markdown",
   "id": "7970e3b3-577a-4721-b521-8c5d4412a4db",
   "metadata": {},
   "source": [
    "## Solution 3\n",
    "\n",
    "Multiple inheritances: When a child class inherits from multiple parent classes, it is called multiple inheritances. "
   ]
  },
  {
   "cell_type": "code",
   "execution_count": 22,
   "id": "12423734-efea-4503-a675-8cad15845dca",
   "metadata": {},
   "outputs": [],
   "source": [
    "#Multiple inheritances\n",
    "\n",
    "class test1:             #class 1\n",
    "    def feature1(self):\n",
    "        print(\"Feature 1 working\")\n",
    "\n",
    "class test2:            #class 2\n",
    "    def feature2(self):\n",
    "        print(\"Feature 2 working\")\n",
    "    \n",
    "class test3(test1 ,test2):      #class 3 -> class1 ,class2\n",
    "    def feature3(self):\n",
    "        print(\"Feature 3 working\")\n",
    "\n",
    "obj = test3()"
   ]
  },
  {
   "cell_type": "code",
   "execution_count": 23,
   "id": "4f7551dd-4cdb-4d95-85a4-6c5ddc6caf3a",
   "metadata": {},
   "outputs": [
    {
     "name": "stdout",
     "output_type": "stream",
     "text": [
      "Feature 1 working\n"
     ]
    }
   ],
   "source": [
    "obj.feature1()"
   ]
  },
  {
   "cell_type": "code",
   "execution_count": 24,
   "id": "58ccc28c-f3ee-4028-8717-f95a02d1808a",
   "metadata": {},
   "outputs": [
    {
     "name": "stdout",
     "output_type": "stream",
     "text": [
      "Feature 2 working\n"
     ]
    }
   ],
   "source": [
    "obj.feature2()"
   ]
  },
  {
   "cell_type": "code",
   "execution_count": 25,
   "id": "d46508bb-d5b5-4bb2-9353-c8c78ca06ddd",
   "metadata": {},
   "outputs": [
    {
     "name": "stdout",
     "output_type": "stream",
     "text": [
      "Feature 3 working\n"
     ]
    }
   ],
   "source": [
    "obj.feature3()"
   ]
  },
  {
   "cell_type": "markdown",
   "id": "ed082b3a-a255-4fcc-990d-c0787e6d7231",
   "metadata": {},
   "source": [
    "## Solution 4\n",
    "\n",
    "1. A getter is a method that retrieves the current value of an attribute. It is usually named with the \n",
    "   prefix \"get\" followed by the name of the attribute. \n",
    "2. A setter, on the other hand, is a method that sets the value of an attribute. It is usually named with\n",
    "   the prefix \"set\" followed by the name of the attribute.\n",
    "3. By using getters and setters, we can ensure that the values of an object's attributes are accessed and\n",
    "   modified in a controlled way."
   ]
  },
  {
   "cell_type": "code",
   "execution_count": 43,
   "id": "89285ee7-39df-4fdf-ac9a-6391beac4555",
   "metadata": {},
   "outputs": [],
   "source": [
    "class person:\n",
    "    def __init__(self, age):\n",
    "        self.__age = age        #  the attribute is private.\n",
    "    \n",
    "    @property\n",
    "    def get_age(self):         # getter\n",
    "        return self.__age\n",
    "    \n",
    "    @get_age.setter             #setter\n",
    "    def set_age(self,new_age):\n",
    "        if new_age< 10:\n",
    "            pass\n",
    "        else:\n",
    "            self.__age = new_age\n",
    "    \n",
    "obj = person(26)"
   ]
  },
  {
   "cell_type": "code",
   "execution_count": 44,
   "id": "c9bbeef6-32b3-4148-9f43-ab4fd8789a25",
   "metadata": {},
   "outputs": [
    {
     "data": {
      "text/plain": [
       "26"
      ]
     },
     "execution_count": 44,
     "metadata": {},
     "output_type": "execute_result"
    }
   ],
   "source": [
    "obj.get_age"
   ]
  },
  {
   "cell_type": "code",
   "execution_count": 45,
   "id": "f921f83c-9ba6-4657-9725-505b34551e15",
   "metadata": {},
   "outputs": [],
   "source": [
    "obj.set_age = 28"
   ]
  },
  {
   "cell_type": "code",
   "execution_count": 46,
   "id": "0c6342e9-87a5-4e9e-a570-6ece7ed6af19",
   "metadata": {},
   "outputs": [
    {
     "data": {
      "text/plain": [
       "28"
      ]
     },
     "execution_count": 46,
     "metadata": {},
     "output_type": "execute_result"
    }
   ],
   "source": [
    "obj.get_age"
   ]
  },
  {
   "cell_type": "markdown",
   "id": "479f1726-499b-47a8-804b-4bfd63c855bb",
   "metadata": {},
   "source": [
    "## Solution 5"
   ]
  },
  {
   "cell_type": "markdown",
   "id": "109f1664-3fce-4cc6-9eff-40f45716468d",
   "metadata": {},
   "source": [
    "Method overriding is an ability of any object-oriented programming language that allows a subclass or child class to provide a specific implementation of a method that is already provided by one of its super-classes or parent classes. When a method in a subclass has the same name, same parameters or signature and same return type(or sub-type) as a method in its super-class, then the method in the subclass is said to override the method in the super-class."
   ]
  },
  {
   "cell_type": "code",
   "execution_count": 47,
   "id": "cc09d93d-a86b-477c-81bc-4d3d800d102b",
   "metadata": {},
   "outputs": [
    {
     "name": "stdout",
     "output_type": "stream",
     "text": [
      "Inside Parent\n",
      "Inside Child\n"
     ]
    }
   ],
   "source": [
    "class Parent():     \n",
    "    # Constructor\n",
    "    def __init__(self):\n",
    "        self.value = \"Inside Parent\"\n",
    "          \n",
    "    # Parent's show method\n",
    "    def show(self):\n",
    "        print(self.value)\n",
    "        \n",
    "        \n",
    "class Child(Parent):\n",
    "    # Constructor\n",
    "    def __init__(self):\n",
    "        self.value = \"Inside Child\"\n",
    "          \n",
    "    # Child's show method\n",
    "    def show(self):\n",
    "        print(self.value)\n",
    "\n",
    "obj1 = Parent()\n",
    "obj2 = Child()\n",
    "\n",
    "obj1.show()\n",
    "obj2.show()"
   ]
  },
  {
   "cell_type": "markdown",
   "id": "72895665-32ae-4be6-8e0b-290901636762",
   "metadata": {},
   "source": [
    "## THE END"
   ]
  },
  {
   "cell_type": "code",
   "execution_count": null,
   "id": "e4a95274-0ed6-4df9-87df-641bd3fc2a26",
   "metadata": {},
   "outputs": [],
   "source": []
  }
 ],
 "metadata": {
  "kernelspec": {
   "display_name": "Python 3 (ipykernel)",
   "language": "python",
   "name": "python3"
  },
  "language_info": {
   "codemirror_mode": {
    "name": "ipython",
    "version": 3
   },
   "file_extension": ".py",
   "mimetype": "text/x-python",
   "name": "python",
   "nbconvert_exporter": "python",
   "pygments_lexer": "ipython3",
   "version": "3.10.8"
  }
 },
 "nbformat": 4,
 "nbformat_minor": 5
}
