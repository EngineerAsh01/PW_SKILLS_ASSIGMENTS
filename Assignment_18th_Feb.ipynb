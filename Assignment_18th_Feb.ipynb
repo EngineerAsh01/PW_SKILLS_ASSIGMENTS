{
 "cells": [
  {
   "cell_type": "markdown",
   "id": "0903da32-28b8-4c81-af74-e98bcb098450",
   "metadata": {},
   "source": [
    "## Solution 1\n",
    "\n",
    "APIs are mechanisms that enable two software components to communicate with each other using a set of definitions and protocols.\n",
    "For example, the weather bureau's software system contains daily weather data. The weather app on your phone “talks” to this system via APIs and shows you daily weather updates on your phone.\n",
    "\n"
   ]
  },
  {
   "cell_type": "markdown",
   "id": "ad583a17-d1bf-41e6-a3ee-d4866b6adf47",
   "metadata": {},
   "source": [
    "## Solution 2\n",
    "\n",
    "Advantage of using an api:\n",
    "    1. Easy Integration\n",
    "    2. Efficiency\n",
    "    3. Standardization\n",
    "    4. Scalability\n",
    "    \n",
    "Disadvantgae of using an api:\n",
    "    1. Complexity\n",
    "    2. Security Risks\n",
    "    3. Dependence on external system\n",
    "    4. Compatibility issues\n",
    "    5. Maintenance"
   ]
  },
  {
   "cell_type": "markdown",
   "id": "4d455164-745b-4893-b8e0-bcd6b590e1f0",
   "metadata": {},
   "source": [
    "## Solution 3\n",
    "\n",
    "Web API is an API as the name suggests, it can be accessed over the web using the HTTP protocol.\n",
    "\n",
    "difference b/w API and Web API:\n",
    "\n",
    "\n",
    "API stands for Application Programming Interface. API is actually some kind of interface which is having a set of functions. These set of functions will allow programmers to acquire some specific features or the data of an application. \n",
    "\n",
    "Web API is an API as the name suggests, it can be accessed over the web using the HTTP protocol. It is a framework that helps you to create and develop HTTP based RESTFUL services. The web API can be developed by using different technologies such as java, ASP.NET, etc. Web API is used in either a web server or a web browser. Basically Web API is a web development concept. It is limited to Web Application’s client-side and also it does not include a web server or web browser details. If an application is to be used on a distributed system and to provide services on different devices like laptops, mobiles, etc then web API services are used. Web API is the enhanced form of the web application."
   ]
  },
  {
   "cell_type": "markdown",
   "id": "7b6818bf-7e11-40e6-a7e5-02bee645e8a3",
   "metadata": {},
   "source": [
    "## Solution 4\n",
    "REST:\n",
    "REST is a set of architectural principles attuned to the needs of lightweight web services and mobile applications. Because it's a set of guidelines, it leaves the implementation of these recommendations to developers.\n",
    "\n",
    "When a request for data is sent to a REST API, it’s usually done through hypertext transfer protocol (commonly referred to as HTTP). Once a request is received, APIs designed for REST (called RESTful APIs or RESTful web services) can return messages in a variety of formats: HTML, XML, plain text, and JSON. JSON (JavaScript object notation) is favored as a message format because it can be read by any programming language (despite the name), is human- and machine-readable, and is lightweight. In this way, RESTful APIs are more flexible and can be easier to set up.\n",
    "\n",
    "SOAP:\n",
    "SOAP is a standard protocol that was first designed so that applications built with different languages and on different platforms could communicate. Because it is a protocol, it imposes built-in rules that increase its complexity and overhead, which can lead to longer page load times. However, these standards also offer built-in compliances that can make it preferable for enterprise scenarios. The built-in compliance standards include security, atomicity, consistency, isolation, and durability (ACID), which is a set of properties for ensuring reliable database transactions.\n",
    "\n",
    "\n",
    "\n",
    "Shortcomings od SOAP:\n",
    "\n",
    "1. Highly complex. In comparison to Rest, SOAP is significantly more complex.\n",
    "2. No variety of data formats. SOAP is also extremely limited in its support of data formats.\n",
    "3. PI calls are not cached.\n",
    "4. Uses more bandwidth.\n"
   ]
  },
  {
   "cell_type": "markdown",
   "id": "a199de9a-56fe-4a4d-b236-cab835fad405",
   "metadata": {},
   "source": [
    "## Solution 5\n",
    "\n",
    "REST API:\n",
    "\n",
    "1. Relies on REST (Representational State Transfer) architecture using HTTP.\n",
    "2. Generally transports data in JSON. It is based on URI. Because REST follows stateless model, REST does not enforces message format as XML or JSON etc.\n",
    "3. It works with GET, POST, PUT, DELETE\n",
    "4. Less structured -> less bulky data\n",
    "5. Designed with mobile devices in mind\n",
    "\n",
    "SOAP API\n",
    "\n",
    "1. Relies on SOAP (Simple Object Access Protocol)\n",
    "2. Transports data in standard XML format.\n",
    "3. Because it is XML based and relies on SOAP, it works with WSDL\n",
    "4. Works over HTTP, HTTPS, SMTP, XMPP\n",
    "5. Highly structured/typed\n",
    "6. Designed with large enterprise applications in mind"
   ]
  },
  {
   "cell_type": "code",
   "execution_count": null,
   "id": "1e312286-0d42-4f4c-8a24-ed877e121e2f",
   "metadata": {},
   "outputs": [],
   "source": []
  },
  {
   "cell_type": "markdown",
   "id": "b4b0ca5e-2e66-40ea-a501-6294a28afaa6",
   "metadata": {},
   "source": [
    "## THE END"
   ]
  },
  {
   "cell_type": "code",
   "execution_count": null,
   "id": "e210aa07-ad9d-4987-a11c-bb98a4596f2f",
   "metadata": {},
   "outputs": [],
   "source": []
  }
 ],
 "metadata": {
  "kernelspec": {
   "display_name": "Python 3 (ipykernel)",
   "language": "python",
   "name": "python3"
  },
  "language_info": {
   "codemirror_mode": {
    "name": "ipython",
    "version": 3
   },
   "file_extension": ".py",
   "mimetype": "text/x-python",
   "name": "python",
   "nbconvert_exporter": "python",
   "pygments_lexer": "ipython3",
   "version": "3.10.8"
  }
 },
 "nbformat": 4,
 "nbformat_minor": 5
}
