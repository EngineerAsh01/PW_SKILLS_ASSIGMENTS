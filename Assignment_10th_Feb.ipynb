{
 "cells": [
  {
   "cell_type": "markdown",
   "id": "906ae3fe-dea9-423e-aa56-a265fd8888de",
   "metadata": {},
   "source": [
    "## Solution 1\n",
    "\n",
    "Opening a file refers to getting the file ready either for reading or for writing. This can be done using the open() function. This function returns a file object and takes two arguments, one that accepts the file name and another that accepts the mode(Access Mode).\n",
    "These modes also define the location of the File Handle in the file. File handle is like a cursor, which defines from where the data has to be read or written in the file. There are 6 access modes in python.\n",
    "\n",
    "1. Read Only (‘r’): Open text file for reading. The handle is positioned at the beginning of the file. If the file does not exist, raises an I/O error. This is also the default mode in which the file is opened.\n",
    "\n",
    "2. Read and Write (‘r+’): Open the file for reading and writing. The handle is positioned at the beginning of the file. Raises I/O error if the file does not exist.\n",
    "\n",
    "3. Write Only (‘w’): Open the file for writing. For the existing files, the data is truncated and over-written. The handle is positioned at the beginning of the file. Creates the file if the file does not exist.\n",
    "\n",
    "4. Write and Read (‘w+’): Open the file for reading and writing. For existing files, data is truncated and over-written. The handle is positioned at the beginning of the file.\n",
    "\n",
    "5. Append Only (‘a’): Open the file for writing. The file is created if it does not exist. The handle is positioned at the end of the file. The data being written will be inserted at the end, after the existing data.\n",
    "\n",
    "6. Append and Read (‘a+’): Open the file for reading and writing. The file is created if it does not exist. The handle is positioned at the end of the file. The data being written will be inserted at the end, after the existing data.\n",
    "\n",
    "7. Read Only in Binary format(‘rb’):  It lets the user open the file for reading in binary format.\n",
    "\n",
    "8. Read and Write in Binary Format(‘rb+’): It lets the user open the file for reading and writing in binary format.\n",
    "\n",
    "9. Write Only in Binary Format(‘wb’): It lets the user open the file for writing in binary format. When a file gets opened in this mode, there are two things that can happen mostly. A new file gets created if the file does not exist. The content within the file will get overwritten if the file exists and has some data stored in it. \n",
    "\n",
    "10. Write and Read in Binary Format(‘wb+’):  It lets the user open the file for reading as well as writing in binary format. When a file gets opened in this mode, there are two things that can mostly happen. A new file gets created for writing and reading if the file does not exist. The content within the file will get overwritten if the file exists and has some data stored in it. \n",
    "\n",
    "11. Append only in Binary Format(‘ab’): It lets the user open the file for appending in binary format. A new file gets created if there is no file. The data will be inserted at the end if the file exists and has some data stored in it. \n",
    "\n",
    "12. Append and Read in Binary Format(‘ab+’): It lets the user open the file for appending and reading in binary format. A new file will be created for reading and appending if the file does not exist. We can read and append if the file exists and has some data stored in it. \n",
    "\n",
    "\n",
    "SYNTAX -> file_object = (open(\"FILE_NAME\",\"Acess_Mode\"))"
   ]
  },
  {
   "cell_type": "markdown",
   "id": "ecc4530a-5ced-44a3-8347-9e5c380511f2",
   "metadata": {},
   "source": [
    "## Solution 2\n",
    "\n",
    "The close() method closes an open file, file should always be closed because,due to buffering, changes made to a file may not show until you close the file."
   ]
  },
  {
   "cell_type": "markdown",
   "id": "81316549-9e68-41c8-bb22-34913ab2ce98",
   "metadata": {},
   "source": [
    "## Solution 3"
   ]
  },
  {
   "cell_type": "code",
   "execution_count": 2,
   "id": "bb7b0c47-e7f0-4f71-a9f5-22eb9658c374",
   "metadata": {},
   "outputs": [],
   "source": [
    "file = open(\"homework.txt\", \"w\")\n",
    "\n",
    "file.write(\"I want to become a Data Scientist\")\n",
    "\n",
    "file.close()\n",
    "\n"
   ]
  },
  {
   "cell_type": "code",
   "execution_count": 4,
   "id": "08a84cf2-cbda-451e-9a0c-931e500576d2",
   "metadata": {},
   "outputs": [
    {
     "name": "stdout",
     "output_type": "stream",
     "text": [
      "I want to become a Data Scientist\n"
     ]
    }
   ],
   "source": [
    "file = open(\"homework.txt\", \"r\")\n",
    "\n",
    "for i in file:\n",
    "    print(i)\n",
    "\n",
    "file.close()"
   ]
  },
  {
   "cell_type": "markdown",
   "id": "3feb50c6-a7d4-4aa5-b073-024c72ab3922",
   "metadata": {},
   "source": [
    "## Solution 4\n",
    "\n",
    "1. Read ( ): Returns the read bytes in the form of a string. Reads n bytes; if n is not specified, then reads the entire file.\n",
    "\n",
    "2. Readline ( ): Reads a line of the file and returns in the form of a string. For specified n, reads at most n bytes. readline ( ) function does not read more than one line at a time; even if n exceeds, it reads only one line. Readline ( ) function reads a line of the file and returns it in the string. It takes an integer value n as a parameter to read the number of characters read at a time. Readline ( ) method is very efficient in reading the data from a very large file because it fetches the data line by line and returns and prints on the screen. Readline ( ) returns the next line of the file, which contains a newline character in the end. Also, if the end of the file is reached, it will return an empty string.\n",
    "\n",
    "3. readlines ( ): Reads all the lines and returns them as a string element in a list. Readlines ( ) is used to read all the lines at a single go and then return them as a string element in a list. This function can be used for small files, as it reads the whole file content to the memory, then splits it into separate lines. Using the strip () function, we can iterate over the list and strip the newline ' \\n ' character using the strip ( ) function.\n"
   ]
  },
  {
   "cell_type": "code",
   "execution_count": 15,
   "id": "58ba1706-95e5-459a-a223-588859369294",
   "metadata": {},
   "outputs": [],
   "source": [
    "#write to a file\n",
    "\n",
    "file = open(\"homework.txt\", \"w\")\n",
    "\n",
    "file.write(\"I want to become a Data Scientist,Data Science Masters course is highly curated and uniquely designed according to the latest industry standards. This program instills students the skills essential to knowledge discovery efforts to identify standard, novel, and truly differentiated solutions and decision-making, including skills in managing, querying, analyzing, visualizing, and extracting meaning from extremely large data sets. This trending program provides students with the statistical, mathematical and computational skills needed to meet the large-scale data science challenges of today's professional world. You will learn all the stack required to work in data science industry including cloud infrastructure and real-time industry projects.\")\n",
    "\n",
    "file.close()"
   ]
  },
  {
   "cell_type": "code",
   "execution_count": 19,
   "id": "6f96154e-a3f7-46fa-824f-6d1170dec98d",
   "metadata": {},
   "outputs": [
    {
     "name": "stdout",
     "output_type": "stream",
     "text": [
      "I want to become a Data Scientist.\n",
      "Data Science Masters course is highly curated and uniquely designed according to the latest industry standards. This program instills students the skills essential to knowledge discovery efforts to identify standard, novel, and truly differentiated solutions and decision-making, including skills in managing, querying, analyzing, visualizing, and extracting meaning from extremely large data sets. \n",
      "This trending program provides students with the statistical, mathematical and computational skills needed to meet the large-scale data science challenges of today's professional world. \n",
      "You will learn all the stack required to work in data science industry including cloud infrastructure and real-time industry projects.\n"
     ]
    }
   ],
   "source": [
    "# read()\n",
    "file = open(\"homework.txt\", \"r\")\n",
    "\n",
    "print(file.read())\n",
    "\n",
    "file.close()"
   ]
  },
  {
   "cell_type": "code",
   "execution_count": 20,
   "id": "857df496-8aaf-4969-8655-0e59b76b9a42",
   "metadata": {},
   "outputs": [
    {
     "name": "stdout",
     "output_type": "stream",
     "text": [
      "I want to become a Data Scientist.\n",
      "\n"
     ]
    }
   ],
   "source": [
    "#readline\n",
    "file = open(\"homework.txt\", \"r\")\n",
    "\n",
    "print(file.readline())\n",
    "\n",
    "file.close()"
   ]
  },
  {
   "cell_type": "code",
   "execution_count": 21,
   "id": "6f561ed5-8c76-4421-aa63-c54d5ae2938e",
   "metadata": {},
   "outputs": [
    {
     "name": "stdout",
     "output_type": "stream",
     "text": [
      "['I want to become a Data Scientist.\\n', 'Data Science Masters course is highly curated and uniquely designed according to the latest industry standards. This program instills students the skills essential to knowledge discovery efforts to identify standard, novel, and truly differentiated solutions and decision-making, including skills in managing, querying, analyzing, visualizing, and extracting meaning from extremely large data sets. \\n', \"This trending program provides students with the statistical, mathematical and computational skills needed to meet the large-scale data science challenges of today's professional world. \\n\", 'You will learn all the stack required to work in data science industry including cloud infrastructure and real-time industry projects.']\n"
     ]
    }
   ],
   "source": [
    "#readlines\n",
    "file = open(\"homework.txt\", \"r\")\n",
    "\n",
    "print(file.readlines())\n",
    "\n",
    "file.close()"
   ]
  },
  {
   "cell_type": "markdown",
   "id": "dc361349-8437-456d-bfb2-bb7e4559f485",
   "metadata": {},
   "source": [
    "## Solution 5\n",
    "\n",
    "\"with statement\"\n",
    "\n",
    "we can easily observe that every time whenever the file needs to be open, then it is required to be closed; if we do not close the file, then it will create several bugs in the program because many changes not done in the file or come into effect until we do not close the file.So, to overcome this problem, we will use the ' with 'statement, which is mainly used in exception handling in Python, to make the code clearer and much more readable\n"
   ]
  },
  {
   "cell_type": "markdown",
   "id": "2b68215a-fefe-4d67-bd54-940db3f744ea",
   "metadata": {
    "tags": []
   },
   "source": [
    "## Solution 6\n",
    "\n",
    "write():  This function will write the content in the file without adding any extra characters.\n",
    "\n",
    "SYNTAX -> file_name.write(content) \n",
    "\n",
    "writelines() : This function writes the content of a list to a file.\n",
    "\n",
    "SYNTAX -> file_name.writelines(list_of_lines)"
   ]
  },
  {
   "cell_type": "code",
   "execution_count": 22,
   "id": "e74fd01b-2500-4869-99ea-6977b5d7682f",
   "metadata": {},
   "outputs": [],
   "source": [
    "# write\n",
    "\n",
    "file = open(\"homework.txt\", \"w\")\n",
    "\n",
    "file.write(\"I want to become a Data Scientist\")\n",
    "\n",
    "file.close()"
   ]
  },
  {
   "cell_type": "code",
   "execution_count": 23,
   "id": "aac5437a-cf97-49eb-baee-60e0dacfc964",
   "metadata": {},
   "outputs": [],
   "source": [
    "#write lines\n",
    "file = open(\"homework.txt\", \"w\")\n",
    "\n",
    "List1 = [\"this is test 1\",\"this is test2\",\"this is test 3\"]\n",
    "\n",
    "\n",
    "file.writelines(List1)\n",
    "\n",
    "file.close()\n"
   ]
  },
  {
   "cell_type": "code",
   "execution_count": null,
   "id": "0e32f004-18b0-40c8-8819-89574e664605",
   "metadata": {},
   "outputs": [],
   "source": []
  }
 ],
 "metadata": {
  "kernelspec": {
   "display_name": "Python 3 (ipykernel)",
   "language": "python",
   "name": "python3"
  },
  "language_info": {
   "codemirror_mode": {
    "name": "ipython",
    "version": 3
   },
   "file_extension": ".py",
   "mimetype": "text/x-python",
   "name": "python",
   "nbconvert_exporter": "python",
   "pygments_lexer": "ipython3",
   "version": "3.10.8"
  }
 },
 "nbformat": 4,
 "nbformat_minor": 5
}
