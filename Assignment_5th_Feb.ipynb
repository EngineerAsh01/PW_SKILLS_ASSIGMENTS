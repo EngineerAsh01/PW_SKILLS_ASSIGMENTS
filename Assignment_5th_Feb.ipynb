{
 "cells": [
  {
   "cell_type": "markdown",
   "id": "7543d41c-cfd8-4db1-96b9-9d9c9ac17ddf",
   "metadata": {},
   "source": [
    "## Solution 1\n",
    "\n",
    "Class:\n",
    "Class is a user-defined data structure, which holds its own data members and member functions, which can be accessed and used by creating an instance of that class. A class is like a blueprint for an object.\n",
    "\n",
    "Some points on Python class:  \n",
    "\n",
    "1. Classes are created by keyword class.\n",
    "2. Attributes are the variables that belong to a class.\n",
    "3. Attributes can be accessed using the dot (.) operator. Eg.: Myclass.Myattribute\n",
    "\n",
    "SYNTAX -> class class_name:\n",
    "\n",
    "Object:\n",
    "\n",
    "An Object is an instance of a Class. A class is like a blueprint while an instance is a copy of the class with actual values.\n",
    "\n",
    "An object consists of : \n",
    "\n",
    "1. State: It is represented by the attributes of an object. It also reflects the properties of an object.\n",
    "2. Behaviour: It is represented by the methods of an object. It also reflects the response of an object\n",
    "   to other objects.\n",
    "3. Identity: It gives a unique name to an object and enables one object to interact with other objects.\n",
    "\n",
    "SYNYAX -> obj = class_name()"
   ]
  },
  {
   "cell_type": "code",
   "execution_count": 6,
   "id": "d7831ba7-c548-41be-b426-55538bc02058",
   "metadata": {},
   "outputs": [
    {
     "name": "stdout",
     "output_type": "stream",
     "text": [
      "Tanay DSM\n"
     ]
    }
   ],
   "source": [
    "#Example\n",
    "\n",
    "class Student:                              # Creation of class\n",
    "    def __init__(self,name,course):\n",
    "        self.name = name\n",
    "        self.course = course\n",
    "        \n",
    "obj = Student(\"Tanay\",\"DSM\")               # Creation of object\n",
    "\n",
    "print(obj.name,obj.course)\n"
   ]
  },
  {
   "cell_type": "markdown",
   "id": "19182d95-e329-4e9c-914d-403dba67cb2c",
   "metadata": {},
   "source": [
    "## Solution 2"
   ]
  },
  {
   "cell_type": "markdown",
   "id": "358b2b42-d1bc-4612-9fa5-70cbf5507faf",
   "metadata": {},
   "source": [
    "The four pillars of OOPs are:\n",
    "    1. Inheritance\n",
    "    2. Polymorphism\n",
    "    3. Encapsulation\n",
    "    4. Abstraction"
   ]
  },
  {
   "cell_type": "markdown",
   "id": "6ec3f853-b506-431a-9c80-bc8240f34296",
   "metadata": {},
   "source": [
    "## Solution 3\n",
    "\n",
    "The __init__ function (constructo) is called every time an object is created from a class. The __init__ method lets the class initialize the object's attributes and serves no other purpose. It is only used within classes and it is not necessary. But usually it our practice to write init method for setting default state of the object.\n"
   ]
  },
  {
   "cell_type": "code",
   "execution_count": 8,
   "id": "fea8fa5b-e3e0-4a89-8ac4-e99bd4ad2f8e",
   "metadata": {},
   "outputs": [
    {
     "name": "stdout",
     "output_type": "stream",
     "text": [
      "Tanay DSM\n"
     ]
    }
   ],
   "source": [
    "#Example\n",
    "\n",
    "class Student:                              # Creation of class\n",
    "    def __init__(self,name,course):         #__init__() method\n",
    "        self.name = name\n",
    "        self.course = course\n",
    "        \n",
    "obj = Student(\"Tanay\",\"DSM\")               # Creation of object\n",
    "\n",
    "print(obj.name,obj.course)\n"
   ]
  },
  {
   "cell_type": "markdown",
   "id": "e3d52f9e-969d-4b0d-bb5b-7c160a5c94c1",
   "metadata": {},
   "source": [
    "## Solution 4\n",
    "\n",
    "self represents the instance of the class. By using the “self”  we can access the attributes and methods of the class in python. It binds the attributes with the given arguments.\n"
   ]
  },
  {
   "cell_type": "code",
   "execution_count": 9,
   "id": "e115ff54-c35e-4175-a040-94c1d1423c0c",
   "metadata": {},
   "outputs": [
    {
     "name": "stdout",
     "output_type": "stream",
     "text": [
      "Address of self =  140597733140000\n",
      "Address of class object =  140597733140000\n"
     ]
    }
   ],
   "source": [
    "#it is clearly seen that self and obj is referring to the same object\n",
    "  \n",
    "class check:\n",
    "    def __init__(self):\n",
    "        print(\"Address of self = \",id(self))\n",
    "  \n",
    "obj = check()\n",
    "print(\"Address of class object = \",id(obj))"
   ]
  },
  {
   "cell_type": "markdown",
   "id": "ad187ac6-76f1-4507-8409-7400b56f0ccf",
   "metadata": {},
   "source": [
    "## solution 5\n",
    "\n",
    "It is a mechanism that allows you to create a hierarchy of classes that share a set of properties and methods by deriving a class from another class. Inheritance is the capability of one class to derive or inherit the properties from another class.\n",
    "\n",
    "Benefits of inheritance are: \n",
    "1. It represents real-world relationships well.\n",
    "2. It provides the reusability of a code.\n",
    "3. It is transitive in nature, which means that if class B inherits from another class A, then all the subclasses of B would automatically inherit from class A.\n",
    "4. Less development and maintenance expenses result from an inheritance. "
   ]
  },
  {
   "cell_type": "markdown",
   "id": "8381397e-f13f-4ae6-8b80-0f32da4d82bf",
   "metadata": {},
   "source": [
    "Different types of Inheritance:\n",
    "\n",
    "1. Single inheritance: When a child class inherits from only one parent class, it is called single inheritance. We saw an example above.\n",
    "2. Multiple inheritances: When a child class inherits from multiple parent classes, it is called multiple inheritances. \n",
    "3. Multilevel inheritance: When we have a child and grandchild relationship. \n",
    "4. Hierarchical inheritance :More than one derived class are created from a single base.\n",
    "5. Hybrid inheritance: This form combines more than one form of inheritance. Basically, it is a blend of more than one type of inheritance."
   ]
  },
  {
   "cell_type": "code",
   "execution_count": 13,
   "id": "5ee0e43f-9637-43bc-8d92-32c5b6adcbb0",
   "metadata": {},
   "outputs": [],
   "source": [
    "#Single inheritance\n",
    "\n",
    "class test1:           #parent class\n",
    "    def feature1():\n",
    "        pass\n",
    "\n",
    "class test2(test1):     #sub class\n",
    "    def feature2():\n",
    "        pass\n",
    "    \n",
    "obj = test2()"
   ]
  },
  {
   "cell_type": "code",
   "execution_count": 14,
   "id": "cb95fdaf-d66e-452c-bcb8-409d30105dee",
   "metadata": {},
   "outputs": [],
   "source": [
    "#Multiple inheritances\n",
    "\n",
    "class test1:             #class 1\n",
    "    def feature1():\n",
    "        pass\n",
    "\n",
    "class test2:            #class 2\n",
    "    def feature2():\n",
    "        pass\n",
    "    \n",
    "class test3(test1 ,test2):      #class 3 -> class1 ,class2\n",
    "    def feature3():\n",
    "        pass\n",
    "\n",
    "obj = test3()"
   ]
  },
  {
   "cell_type": "code",
   "execution_count": 16,
   "id": "1c6bdfff-8e25-4dd8-8a14-5951586c8893",
   "metadata": {},
   "outputs": [],
   "source": [
    "#Multilevel inheritance\n",
    "\n",
    "class test1:                #parent class\n",
    "    def feature1():\n",
    "        pass\n",
    "\n",
    "class test2(test1):         #child class\n",
    "    def feature2():\n",
    "        pass\n",
    "    \n",
    "class test3(test2):        #grand child class\n",
    "    def feature3():\n",
    "        pass\n",
    "\n",
    "obj = test3()"
   ]
  },
  {
   "cell_type": "code",
   "execution_count": 17,
   "id": "93596a2b-f915-45fe-a1fc-9e34a1a6438b",
   "metadata": {},
   "outputs": [],
   "source": [
    "#Hierarchical inheritance\n",
    "class test1:                 #parent class\n",
    "    def feature1():\n",
    "        pass\n",
    "\n",
    "class test2(test1):          #sub class 1\n",
    "    def feature2():\n",
    "        pass\n",
    "    \n",
    "class test3(test1):          #sub class 2\n",
    "    def feature3(): \n",
    "        pass\n",
    "    \n",
    "obj = test2()\n",
    "obj1 = test3()"
   ]
  },
  {
   "cell_type": "code",
   "execution_count": null,
   "id": "dcbafde7-21b4-4623-ba44-db541a2d4147",
   "metadata": {},
   "outputs": [],
   "source": [
    "#Hybrid inheritance\n",
    "class test1:              #class 1\n",
    "    def feature1():\n",
    "        pass\n",
    "\n",
    "class test2(test1):      #class 2 -> class 1\n",
    "    def feature2():\n",
    "        pass\n",
    "    \n",
    "class test3(test1):      #class 3 -> class 1\n",
    "    def feature3():\n",
    "        pass\n",
    "    \n",
    "class test4(test3,test1):  #class 4 ->  class1,class3\n",
    "    def feature4():\n",
    "        pass\n",
    "    \n"
   ]
  }
 ],
 "metadata": {
  "kernelspec": {
   "display_name": "Python 3 (ipykernel)",
   "language": "python",
   "name": "python3"
  },
  "language_info": {
   "codemirror_mode": {
    "name": "ipython",
    "version": 3
   },
   "file_extension": ".py",
   "mimetype": "text/x-python",
   "name": "python",
   "nbconvert_exporter": "python",
   "pygments_lexer": "ipython3",
   "version": "3.10.8"
  }
 },
 "nbformat": 4,
 "nbformat_minor": 5
}
