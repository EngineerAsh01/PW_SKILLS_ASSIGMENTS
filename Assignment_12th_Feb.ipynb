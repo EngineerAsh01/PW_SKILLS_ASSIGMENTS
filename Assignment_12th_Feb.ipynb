{
 "cells": [
  {
   "cell_type": "markdown",
   "id": "279c9eaa-e7da-482d-9eef-3ef24f9be4ce",
   "metadata": {},
   "source": [
    "## Solution 1\n",
    "\n",
    "Exception:\n",
    "An exception is an abnormal event that occurs during the execution of a program. Exceptions are usually caused by runtime errors, such as dividing by zero, trying to access an element in an array with an out-of-bounds index, or trying to access a file that does not exist. Exceptions are not syntax errors, but they can still prevent the program from running if they are not handled properly.\n",
    "\n",
    "In many programming languages, exceptions are handled using try-catch blocks. When an exception is thrown, the program will try to execute the code in the catch block, which can handle the exception and allow the program to continue running. If the exception is not caught, the program will terminate.\n",
    "\n",
    "Syntax Error:\n",
    "A syntax error occurs when the structure of a program does not conform to the rules of the programming language. Syntax errors are usually detected by the compiler or interpreter when the program is being compiled or executed, and they prevent the program from running. Syntax errors are usually caused by mistakes in the source code, such as typos, omissions, or incorrect use of syntax.\n"
   ]
  },
  {
   "cell_type": "markdown",
   "id": "62851953-d224-4c29-80a5-9dc5b8be4183",
   "metadata": {},
   "source": [
    "## Solution 2\n",
    "An exception is an abnormal event that occurs during the execution of a program."
   ]
  },
  {
   "cell_type": "code",
   "execution_count": 1,
   "id": "9f5010b9-0ba1-42ef-8bae-1b1991a1c19c",
   "metadata": {},
   "outputs": [
    {
     "ename": "ZeroDivisionError",
     "evalue": "division by zero",
     "output_type": "error",
     "traceback": [
      "\u001b[0;31m---------------------------------------------------------------------------\u001b[0m",
      "\u001b[0;31mZeroDivisionError\u001b[0m                         Traceback (most recent call last)",
      "Cell \u001b[0;32mIn[1], line 6\u001b[0m\n\u001b[1;32m      3\u001b[0m num_1 \u001b[38;5;241m=\u001b[39m \u001b[38;5;241m10\u001b[39m\n\u001b[1;32m      4\u001b[0m num_2 \u001b[38;5;241m=\u001b[39m \u001b[38;5;241m0\u001b[39m\n\u001b[0;32m----> 6\u001b[0m result \u001b[38;5;241m=\u001b[39m \u001b[43mnum_1\u001b[49m\u001b[38;5;241;43m/\u001b[39;49m\u001b[43mnum_2\u001b[49m\n\u001b[1;32m      8\u001b[0m \u001b[38;5;28mprint\u001b[39m(result)\n",
      "\u001b[0;31mZeroDivisionError\u001b[0m: division by zero"
     ]
    }
   ],
   "source": [
    "#Example\n",
    "\n",
    "num_1 = 10\n",
    "num_2 = 0\n",
    "\n",
    "result = num_1/num_2\n",
    "\n",
    "print(result)\n",
    "\n",
    "#this code throws an excepiton if not handle see below"
   ]
  },
  {
   "cell_type": "markdown",
   "id": "cf99988c-1775-4684-80bd-5c29aa534c20",
   "metadata": {},
   "source": [
    "## Solution 3"
   ]
  },
  {
   "cell_type": "code",
   "execution_count": 4,
   "id": "855400c1-48dd-499f-a00b-33e4e8a8b9b3",
   "metadata": {},
   "outputs": [
    {
     "name": "stdout",
     "output_type": "stream",
     "text": [
      "Excepiton -> division by zero\n"
     ]
    }
   ],
   "source": [
    "num_1 = 10\n",
    "num_2 = 0\n",
    "\n",
    "try:\n",
    "    result = num_1/num_2\n",
    "    print(result)\n",
    "    \n",
    "except Exception as e:\n",
    "    print(\"Excepiton ->\",e)\n",
    "    "
   ]
  },
  {
   "cell_type": "markdown",
   "id": "2fae40d2-6bf8-4c11-a813-59cf1e4ce3bc",
   "metadata": {},
   "source": [
    "## Solution 4\n",
    "\n",
    "Try: This block will test the excepted error to occur  \n",
    "Else: If there is no exception then this block will be executed"
   ]
  },
  {
   "cell_type": "code",
   "execution_count": 7,
   "id": "0e1d0b1e-ff96-420b-ab1d-bef6a8e9edc2",
   "metadata": {},
   "outputs": [
    {
     "name": "stdout",
     "output_type": "stream",
     "text": [
      "5.0\n",
      "Code Completed with no exception\n"
     ]
    }
   ],
   "source": [
    "#example\n",
    "num_1 = 10\n",
    "num_2 = 2\n",
    "\n",
    "try:\n",
    "    result = num_1/num_2\n",
    "    print(result)\n",
    "    \n",
    "except Exception as e:\n",
    "    print(\"Excepiton ->\",e)\n",
    "    \n",
    "else:\n",
    "    print(\"Code Completed with no exception\")"
   ]
  },
  {
   "cell_type": "markdown",
   "id": "418a0cd5-8c5b-4444-a013-c336ff09a950",
   "metadata": {},
   "source": [
    "Finally: Finally block always gets executed either exception is generated or not"
   ]
  },
  {
   "cell_type": "code",
   "execution_count": 8,
   "id": "351652f4-873a-4429-9ab9-1f0cbd712342",
   "metadata": {},
   "outputs": [
    {
     "name": "stdout",
     "output_type": "stream",
     "text": [
      "Excepiton -> division by zero\n",
      "I don't care if there is exception i will execute\n"
     ]
    }
   ],
   "source": [
    "#example\n",
    "num_1 = 10\n",
    "num_2 = 0\n",
    "\n",
    "try:\n",
    "    result = num_1/num_2\n",
    "    print(result)\n",
    "    \n",
    "except Exception as e:\n",
    "    print(\"Excepiton ->\",e)\n",
    "    \n",
    "else:\n",
    "    print(\"Code Completed with no exception\")\n",
    "    \n",
    "finally:\n",
    "    print(\"I don't care if there is exception i will execute\")"
   ]
  },
  {
   "cell_type": "markdown",
   "id": "59b1e56c-20ec-458a-9690-baf11055395c",
   "metadata": {},
   "source": [
    "Raise : The raise keyword is used to raise an exception. You can define what kind of error to raise, and the text to print to the user."
   ]
  },
  {
   "cell_type": "code",
   "execution_count": 11,
   "id": "fc39ad3a-da49-4c7d-aff2-82b67300b380",
   "metadata": {},
   "outputs": [
    {
     "ename": "TypeError",
     "evalue": "Only integers are allowed",
     "output_type": "error",
     "traceback": [
      "\u001b[0;31m---------------------------------------------------------------------------\u001b[0m",
      "\u001b[0;31mTypeError\u001b[0m                                 Traceback (most recent call last)",
      "Cell \u001b[0;32mIn[11], line 4\u001b[0m\n\u001b[1;32m      1\u001b[0m x \u001b[38;5;241m=\u001b[39m \u001b[38;5;124m\"\u001b[39m\u001b[38;5;124mhello\u001b[39m\u001b[38;5;124m\"\u001b[39m\n\u001b[1;32m      3\u001b[0m \u001b[38;5;28;01mif\u001b[39;00m \u001b[38;5;129;01mnot\u001b[39;00m \u001b[38;5;28mtype\u001b[39m(x) \u001b[38;5;129;01mis\u001b[39;00m \u001b[38;5;28mint\u001b[39m:\n\u001b[0;32m----> 4\u001b[0m   \u001b[38;5;28;01mraise\u001b[39;00m \u001b[38;5;167;01mTypeError\u001b[39;00m(\u001b[38;5;124m\"\u001b[39m\u001b[38;5;124mOnly integers are allowed\u001b[39m\u001b[38;5;124m\"\u001b[39m)\n",
      "\u001b[0;31mTypeError\u001b[0m: Only integers are allowed"
     ]
    }
   ],
   "source": [
    "x = \"hello\"\n",
    "\n",
    "if not type(x) is int:\n",
    "  raise TypeError(\"Only integers are allowed\")"
   ]
  },
  {
   "cell_type": "markdown",
   "id": "afd1bfb2-32ae-4830-94cc-08a85817afa2",
   "metadata": {},
   "source": [
    "## Solution 5\n",
    "\n",
    "Custom Exception:\n",
    "1. In python, programmer can defined custom exceptions by creating a \n",
    "   new class that is derived from the built-in Exception class.\n",
    "2. Custom Exception can be made to have a some custom control over   \n",
    "   the data entered by the user or any runtime error which is not \n",
    "   covered in python exception handler"
   ]
  },
  {
   "cell_type": "code",
   "execution_count": 20,
   "id": "191ff361-c4a9-4c5c-b47b-12ea17135e66",
   "metadata": {},
   "outputs": [
    {
     "name": "stdout",
     "output_type": "stream",
     "text": [
      "A New Exception occurred: 5\n"
     ]
    }
   ],
   "source": [
    "#Example\n",
    "value = 5\n",
    "class MyError(Exception):\n",
    " \n",
    "    def __init__(self, value):\n",
    "        self.value = value\n",
    "\n",
    "try:\n",
    "    if value < 10:                #raise an error if value less than 10\n",
    "        raise(MyError(value))\n",
    " \n",
    "except MyError as error:       \n",
    "    print('A New Exception occurred:',value)\n",
    "\n",
    "else:\n",
    "    print(\"the value is:\",value)"
   ]
  },
  {
   "cell_type": "markdown",
   "id": "531534aa-8498-4ceb-9002-d6685e2139f4",
   "metadata": {},
   "source": [
    "## Solution 6"
   ]
  },
  {
   "cell_type": "code",
   "execution_count": 29,
   "id": "78967fe2-d06f-47f9-91c3-635cf6516ae5",
   "metadata": {},
   "outputs": [
    {
     "name": "stdin",
     "output_type": "stream",
     "text": [
      "Enter a interger value: 5\n"
     ]
    },
    {
     "name": "stdout",
     "output_type": "stream",
     "text": [
      "Error Msg-> Value less than 10 ,Entered value: 5\n"
     ]
    }
   ],
   "source": [
    "value = int(input(\"Enter a interger value:\"))\n",
    "class MyError(Exception):\n",
    " \n",
    "    def __init__(self, value,msg):\n",
    "        self.value = value\n",
    "        self.msg = msg\n",
    "\n",
    "try:\n",
    "    if value < 10:                #raise an error if value less than 10\n",
    "        raise(MyError(value,\"Value less than 10\"))\n",
    " \n",
    "except MyError as error:       \n",
    "    print(\"Error Msg->\",error.msg,\",Entered value:\",value)\n",
    "\n",
    "else:\n",
    "    print(\"the value is:\",value)"
   ]
  },
  {
   "cell_type": "markdown",
   "id": "0d5a31f6-4b04-4b2d-b0d3-2dcc8d37506b",
   "metadata": {},
   "source": [
    "## THE END"
   ]
  },
  {
   "cell_type": "code",
   "execution_count": null,
   "id": "abb4bb29-02ca-4c44-865d-2e9a0294b1a7",
   "metadata": {},
   "outputs": [],
   "source": []
  }
 ],
 "metadata": {
  "kernelspec": {
   "display_name": "Python 3 (ipykernel)",
   "language": "python",
   "name": "python3"
  },
  "language_info": {
   "codemirror_mode": {
    "name": "ipython",
    "version": 3
   },
   "file_extension": ".py",
   "mimetype": "text/x-python",
   "name": "python",
   "nbconvert_exporter": "python",
   "pygments_lexer": "ipython3",
   "version": "3.10.8"
  }
 },
 "nbformat": 4,
 "nbformat_minor": 5
}
